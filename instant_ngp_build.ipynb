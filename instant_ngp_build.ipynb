{
  "cells": [
    {
      "cell_type": "markdown",
      "metadata": {
        "id": "view-in-github",
        "colab_type": "text"
      },
      "source": [
        "<a href=\"https://colab.research.google.com/github/unknown-user-here/unknown-user-here.github.io/blob/main/instant_ngp_build.ipynb\" target=\"_parent\"><img src=\"https://colab.research.google.com/assets/colab-badge.svg\" alt=\"Open In Colab\"/></a>"
      ]
    },
    {
      "cell_type": "markdown",
      "metadata": {
        "id": "-fAjMk8jDvp5"
      },
      "source": [
        "# Instant-ngp\n",
        "\n",
        "This notebook aims to be a step-by-step guide to train NeRF models and rendering videos from them with nvidia's [instant-ngp](https://github.com/NVlabs/instant-ngp) software using:\n",
        " * **Colab** for the heavy lifting.\n",
        " * A low-resource **local computer** for the steps that require having a graphical user interface (GUI).\n",
        "\n",
        "It has been tested on a GTX 1050ti in the local machine and an assigned Tesla T4 in the remote one.\n",
        "\n",
        "Based on this [notebook](https://colab.research.google.com/drive/10TgQ4gyVejlHiinrmm5XOvQQmgVziK3i?usp=sharing) by [@myagues](https://github.com/NVlabs/instant-ngp/issues/6#issuecomment-1016397579), the main differences being the addition of steps 3 and 4 to ensure compatibility between the local machine and the models trained in the remote machine, of step 10 to render a video from the scene, and a more guided approach."
      ]
    },
    {
      "cell_type": "markdown",
      "metadata": {
        "id": "SxsmRf03DFYe"
      },
      "source": [
        "## 1.Connect to a GPU runtime"
      ]
    },
    {
      "cell_type": "markdown",
      "metadata": {
        "id": "NyjFWI3WDPBr"
      },
      "source": [
        "Connect your colab session to a GPU runtime and check that you have been assigned a GPU. It should have a minimum of 8GB of available memory."
      ]
    },
    {
      "cell_type": "code",
      "source": [],
      "metadata": {
        "id": "3claVpFUnjkG"
      },
      "execution_count": null,
      "outputs": []
    },
    {
      "cell_type": "code",
      "execution_count": 2,
      "metadata": {
        "colab": {
          "base_uri": "https://localhost:8080/"
        },
        "id": "QJC-0GitoJEh",
        "outputId": "f02cdd57-ed81-4681-ee73-17b1e8d77d44"
      },
      "outputs": [
        {
          "output_type": "stream",
          "name": "stdout",
          "text": [
            "Thu Nov  2 10:40:19 2023       \n",
            "+-----------------------------------------------------------------------------+\n",
            "| NVIDIA-SMI 525.105.17   Driver Version: 525.105.17   CUDA Version: 12.0     |\n",
            "|-------------------------------+----------------------+----------------------+\n",
            "| GPU  Name        Persistence-M| Bus-Id        Disp.A | Volatile Uncorr. ECC |\n",
            "| Fan  Temp  Perf  Pwr:Usage/Cap|         Memory-Usage | GPU-Util  Compute M. |\n",
            "|                               |                      |               MIG M. |\n",
            "|===============================+======================+======================|\n",
            "|   0  Tesla T4            Off  | 00000000:00:04.0 Off |                    0 |\n",
            "| N/A   36C    P8     9W /  70W |      0MiB / 15360MiB |      0%      Default |\n",
            "|                               |                      |                  N/A |\n",
            "+-------------------------------+----------------------+----------------------+\n",
            "                                                                               \n",
            "+-----------------------------------------------------------------------------+\n",
            "| Processes:                                                                  |\n",
            "|  GPU   GI   CI        PID   Type   Process name                  GPU Memory |\n",
            "|        ID   ID                                                   Usage      |\n",
            "|=============================================================================|\n",
            "|  No running processes found                                                 |\n",
            "+-----------------------------------------------------------------------------+\n"
          ]
        }
      ],
      "source": [
        "!nvidia-smi"
      ]
    },
    {
      "cell_type": "markdown",
      "metadata": {
        "id": "Da9sDpM-DXps"
      },
      "source": [
        "## 2. Install dependencies and clone the instant-ngp repo"
      ]
    },
    {
      "cell_type": "code",
      "execution_count": 1,
      "metadata": {
        "colab": {
          "base_uri": "https://localhost:8080/"
        },
        "id": "yKFsL8wSdQ8Q",
        "outputId": "0acd7abc-1e18-4bf2-b9da-770110822eb9"
      },
      "outputs": [
        {
          "output_type": "stream",
          "name": "stdout",
          "text": [
            "\u001b[33m\r0% [Working]\u001b[0m\r            \rGet:1 https://cloud.r-project.org/bin/linux/ubuntu jammy-cran40/ InRelease [3,626 B]\n",
            "Get:2 https://developer.download.nvidia.com/compute/cuda/repos/ubuntu2204/x86_64  InRelease [1,581 B]\n",
            "Get:3 https://developer.download.nvidia.com/compute/cuda/repos/ubuntu2204/x86_64  Packages [591 kB]\n",
            "Hit:4 http://archive.ubuntu.com/ubuntu jammy InRelease\n",
            "Get:5 http://security.ubuntu.com/ubuntu jammy-security InRelease [110 kB]\n",
            "Get:6 http://archive.ubuntu.com/ubuntu jammy-updates InRelease [119 kB]\n",
            "Get:7 https://ppa.launchpadcontent.net/c2d4u.team/c2d4u4.0+/ubuntu jammy InRelease [18.1 kB]\n",
            "Get:8 http://security.ubuntu.com/ubuntu jammy-security/universe amd64 Packages [1,012 kB]\n",
            "Get:9 http://archive.ubuntu.com/ubuntu jammy-backports InRelease [109 kB]\n",
            "Get:10 http://archive.ubuntu.com/ubuntu jammy-updates/main amd64 Packages [1,455 kB]\n",
            "Hit:11 https://ppa.launchpadcontent.net/deadsnakes/ppa/ubuntu jammy InRelease\n",
            "Get:12 http://security.ubuntu.com/ubuntu jammy-security/restricted amd64 Packages [1,389 kB]\n",
            "Get:13 http://archive.ubuntu.com/ubuntu jammy-updates/universe amd64 Packages [1,278 kB]\n",
            "Get:14 http://security.ubuntu.com/ubuntu jammy-security/main amd64 Packages [1,185 kB]\n",
            "Get:15 https://ppa.launchpadcontent.net/graphics-drivers/ppa/ubuntu jammy InRelease [24.3 kB]\n",
            "Hit:16 https://ppa.launchpadcontent.net/ubuntugis/ppa/ubuntu jammy InRelease\n",
            "Get:17 https://ppa.launchpadcontent.net/c2d4u.team/c2d4u4.0+/ubuntu jammy/main Sources [2,231 kB]\n",
            "Get:18 https://ppa.launchpadcontent.net/c2d4u.team/c2d4u4.0+/ubuntu jammy/main amd64 Packages [1,145 kB]\n",
            "Get:19 https://ppa.launchpadcontent.net/graphics-drivers/ppa/ubuntu jammy/main amd64 Packages [39.5 kB]\n",
            "Fetched 10.7 MB in 7s (1,644 kB/s)\n",
            "Reading package lists... Done\n",
            "Building dependency tree... Done\n",
            "Reading state information... Done\n",
            "19 packages can be upgraded. Run 'apt list --upgradable' to see them.\n",
            "Reading package lists... Done\n",
            "Building dependency tree... Done\n",
            "Reading state information... Done\n",
            "build-essential is already the newest version (12.9ubuntu3).\n",
            "libopenexr-dev is already the newest version (2.5.7-1).\n",
            "libopenexr-dev set to manually installed.\n",
            "git is already the newest version (1:2.34.1-1ubuntu1.10).\n",
            "python3-dev is already the newest version (3.10.6-1~22.04).\n",
            "python3-dev set to manually installed.\n",
            "ffmpeg is already the newest version (7:4.4.2-0ubuntu0.22.04.1).\n",
            "The following additional packages will be installed:\n",
            "  libamd2 libcamd2 libccolamd2 libceres2 libcholmod3 libcolamd2 libcxsparse3 libegl-dev\n",
            "  libegl1-mesa-dev libevdev2 libffi-dev libfreeimage3 libgflags2.2 libgl-dev libgl1-mesa-dev\n",
            "  libgles-dev libgles1 libglfw3 libglu1-mesa libglu1-mesa-dev libglvnd-core-dev libglvnd-dev\n",
            "  libglx-dev libgoogle-glog0v5 libgudev-1.0-0 libinput-bin libinput10 libjq1 libjxr0 libmd4c0\n",
            "  libmetis5 libmtdev1 libomp-14-dev libomp5-14 libonig5 libopengl-dev libqt5core5a libqt5dbus5\n",
            "  libqt5gui5 libqt5network5 libqt5svg5 libqt5widgets5 libraw20 libspqr2 libsuitesparseconfig5\n",
            "  libvulkan-dev libvulkan1 libwacom-bin libwacom-common libwacom9 libwayland-bin libwayland-dev\n",
            "  libxcb-icccm4 libxcb-image0 libxcb-keysyms1 libxcb-render-util0 libxcb-util1 libxcb-xinerama0\n",
            "  libxcb-xinput0 libxcb-xkb1 libxfixes-dev libxkbcommon-x11-0 libxrandr-dev mesa-vulkan-drivers\n",
            "  python3-setuptools python3-wheel qt5-gtk-platformtheme qttranslations5-l10n\n",
            "Suggested packages:\n",
            "  libosmesa6 libglfw3-doc libomp-14-doc qt5-image-formats-plugins qtwayland5 libwayland-doc\n",
            "  python-setuptools-doc\n",
            "The following NEW packages will be installed:\n",
            "  colmap jq libamd2 libcamd2 libccolamd2 libceres2 libcholmod3 libcolamd2 libcxsparse3 libegl-dev\n",
            "  libegl1-mesa-dev libevdev2 libffi-dev libfreeimage3 libgflags2.2 libgl-dev libgl1-mesa-dev\n",
            "  libgles-dev libgles1 libglew-dev libglfw3 libglfw3-dev libglu1-mesa libglu1-mesa-dev\n",
            "  libglvnd-core-dev libglvnd-dev libglx-dev libgoogle-glog0v5 libgudev-1.0-0 libinput-bin\n",
            "  libinput10 libjq1 libjxr0 libmd4c0 libmetis5 libmtdev1 libomp-14-dev libomp-dev libomp5-14\n",
            "  libonig5 libopengl-dev libqt5core5a libqt5dbus5 libqt5gui5 libqt5network5 libqt5svg5\n",
            "  libqt5widgets5 libraw20 libspqr2 libsuitesparseconfig5 libvulkan-dev libvulkan1 libwacom-bin\n",
            "  libwacom-common libwacom9 libwayland-bin libwayland-dev libxcb-icccm4 libxcb-image0\n",
            "  libxcb-keysyms1 libxcb-render-util0 libxcb-util1 libxcb-xinerama0 libxcb-xinput0 libxcb-xkb1\n",
            "  libxcursor-dev libxfixes-dev libxi-dev libxinerama-dev libxkbcommon-x11-0 libxrandr-dev\n",
            "  mesa-vulkan-drivers python3-pip python3-setuptools python3-wheel qt5-gtk-platformtheme\n",
            "  qttranslations5-l10n\n",
            "0 upgraded, 77 newly installed, 0 to remove and 19 not upgraded.\n",
            "Need to get 32.3 MB of archives.\n",
            "After this operation, 160 MB of additional disk space will be used.\n",
            "Get:1 http://archive.ubuntu.com/ubuntu jammy-updates/universe amd64 libqt5core5a amd64 5.15.3+dfsg-2ubuntu0.2 [2,006 kB]\n",
            "Get:2 http://archive.ubuntu.com/ubuntu jammy/main amd64 libevdev2 amd64 1.12.1+dfsg-1 [39.5 kB]\n",
            "Get:3 http://archive.ubuntu.com/ubuntu jammy/main amd64 libmtdev1 amd64 1.1.6-1build4 [14.5 kB]\n",
            "Get:4 http://archive.ubuntu.com/ubuntu jammy/main amd64 libgudev-1.0-0 amd64 1:237-2build1 [16.3 kB]\n",
            "Get:5 http://archive.ubuntu.com/ubuntu jammy/main amd64 libwacom-common all 2.2.0-1 [54.3 kB]\n",
            "Get:6 http://archive.ubuntu.com/ubuntu jammy/main amd64 libwacom9 amd64 2.2.0-1 [22.0 kB]\n",
            "Get:7 http://archive.ubuntu.com/ubuntu jammy-updates/main amd64 libinput-bin amd64 1.20.0-1ubuntu0.3 [19.9 kB]\n",
            "Get:8 http://archive.ubuntu.com/ubuntu jammy-updates/main amd64 libinput10 amd64 1.20.0-1ubuntu0.3 [131 kB]\n",
            "Get:9 http://archive.ubuntu.com/ubuntu jammy/universe amd64 libmd4c0 amd64 0.4.8-1 [42.0 kB]\n",
            "Get:10 http://archive.ubuntu.com/ubuntu jammy-updates/universe amd64 libqt5dbus5 amd64 5.15.3+dfsg-2ubuntu0.2 [222 kB]\n",
            "Get:11 http://archive.ubuntu.com/ubuntu jammy-updates/universe amd64 libqt5network5 amd64 5.15.3+dfsg-2ubuntu0.2 [731 kB]\n",
            "Get:12 http://archive.ubuntu.com/ubuntu jammy/main amd64 libxcb-icccm4 amd64 0.4.1-1.1build2 [11.5 kB]\n",
            "Get:13 http://archive.ubuntu.com/ubuntu jammy/main amd64 libxcb-util1 amd64 0.4.0-1build2 [11.4 kB]\n",
            "Get:14 http://archive.ubuntu.com/ubuntu jammy/main amd64 libxcb-image0 amd64 0.4.0-2 [11.5 kB]\n",
            "Get:15 http://archive.ubuntu.com/ubuntu jammy/main amd64 libxcb-keysyms1 amd64 0.4.0-1build3 [8,746 B]\n",
            "Get:16 http://archive.ubuntu.com/ubuntu jammy/main amd64 libxcb-render-util0 amd64 0.3.9-1build3 [10.3 kB]\n",
            "Get:17 http://archive.ubuntu.com/ubuntu jammy/main amd64 libxcb-xinerama0 amd64 1.14-3ubuntu3 [5,414 B]\n",
            "Get:18 http://archive.ubuntu.com/ubuntu jammy/main amd64 libxcb-xinput0 amd64 1.14-3ubuntu3 [34.3 kB]\n",
            "Get:19 http://archive.ubuntu.com/ubuntu jammy/main amd64 libxcb-xkb1 amd64 1.14-3ubuntu3 [32.8 kB]\n",
            "Get:20 http://archive.ubuntu.com/ubuntu jammy/main amd64 libxkbcommon-x11-0 amd64 1.4.0-1 [14.4 kB]\n",
            "Get:21 http://archive.ubuntu.com/ubuntu jammy-updates/universe amd64 libqt5gui5 amd64 5.15.3+dfsg-2ubuntu0.2 [3,722 kB]\n",
            "Get:22 http://archive.ubuntu.com/ubuntu jammy-updates/universe amd64 libqt5widgets5 amd64 5.15.3+dfsg-2ubuntu0.2 [2,561 kB]\n",
            "Get:23 http://archive.ubuntu.com/ubuntu jammy/universe amd64 libqt5svg5 amd64 5.15.3-1 [149 kB]\n",
            "Get:24 http://archive.ubuntu.com/ubuntu jammy/main amd64 libsuitesparseconfig5 amd64 1:5.10.1+dfsg-4build1 [10.4 kB]\n",
            "Get:25 http://archive.ubuntu.com/ubuntu jammy/universe amd64 libamd2 amd64 1:5.10.1+dfsg-4build1 [21.6 kB]\n",
            "Get:26 http://archive.ubuntu.com/ubuntu jammy/universe amd64 libcamd2 amd64 1:5.10.1+dfsg-4build1 [23.3 kB]\n",
            "Get:27 http://archive.ubuntu.com/ubuntu jammy/universe amd64 libccolamd2 amd64 1:5.10.1+dfsg-4build1 [25.2 kB]\n",
            "Get:28 http://archive.ubuntu.com/ubuntu jammy/main amd64 libcolamd2 amd64 1:5.10.1+dfsg-4build1 [18.0 kB]\n",
            "Get:29 http://archive.ubuntu.com/ubuntu jammy/universe amd64 libmetis5 amd64 5.1.0.dfsg-7build2 [181 kB]\n",
            "Get:30 http://archive.ubuntu.com/ubuntu jammy/universe amd64 libcholmod3 amd64 1:5.10.1+dfsg-4build1 [346 kB]\n",
            "Get:31 http://archive.ubuntu.com/ubuntu jammy/universe amd64 libcxsparse3 amd64 1:5.10.1+dfsg-4build1 [70.8 kB]\n",
            "Get:32 http://archive.ubuntu.com/ubuntu jammy/universe amd64 libgflags2.2 amd64 2.2.2-2 [78.1 kB]\n",
            "Get:33 http://archive.ubuntu.com/ubuntu jammy/universe amd64 libgoogle-glog0v5 amd64 0.5.0+really0.4.0-2 [60.3 kB]\n",
            "Get:34 http://archive.ubuntu.com/ubuntu jammy/universe amd64 libspqr2 amd64 1:5.10.1+dfsg-4build1 [71.6 kB]\n",
            "Get:35 http://archive.ubuntu.com/ubuntu jammy/universe amd64 libceres2 amd64 2.0.0+dfsg1-5 [834 kB]\n",
            "Get:36 http://archive.ubuntu.com/ubuntu jammy/universe amd64 libjxr0 amd64 1.2~git20170615.f752187-5 [174 kB]\n",
            "Get:37 http://archive.ubuntu.com/ubuntu jammy-updates/main amd64 libraw20 amd64 0.20.2-2ubuntu2.22.04.1 [342 kB]\n",
            "Get:38 http://archive.ubuntu.com/ubuntu jammy/universe amd64 libfreeimage3 amd64 3.18.0+ds2-6ubuntu5 [293 kB]\n",
            "Get:39 http://archive.ubuntu.com/ubuntu jammy/universe amd64 colmap amd64 3.7-2 [2,998 kB]\n",
            "Get:40 http://archive.ubuntu.com/ubuntu jammy/main amd64 libonig5 amd64 6.9.7.1-2build1 [172 kB]\n",
            "Get:41 http://archive.ubuntu.com/ubuntu jammy/main amd64 libjq1 amd64 1.6-2.1ubuntu3 [133 kB]\n",
            "Get:42 http://archive.ubuntu.com/ubuntu jammy/main amd64 jq amd64 1.6-2.1ubuntu3 [52.5 kB]\n",
            "Get:43 http://archive.ubuntu.com/ubuntu jammy/main amd64 libglx-dev amd64 1.4.0-1 [14.1 kB]\n",
            "Get:44 http://archive.ubuntu.com/ubuntu jammy/main amd64 libgl-dev amd64 1.4.0-1 [101 kB]\n",
            "Get:45 http://archive.ubuntu.com/ubuntu jammy/main amd64 libegl-dev amd64 1.4.0-1 [18.0 kB]\n",
            "Get:46 http://archive.ubuntu.com/ubuntu jammy/main amd64 libglvnd-core-dev amd64 1.4.0-1 [12.7 kB]\n",
            "Get:47 http://archive.ubuntu.com/ubuntu jammy/main amd64 libgles1 amd64 1.4.0-1 [11.5 kB]\n",
            "Get:48 http://archive.ubuntu.com/ubuntu jammy/main amd64 libgles-dev amd64 1.4.0-1 [49.4 kB]\n",
            "Get:49 http://archive.ubuntu.com/ubuntu jammy/main amd64 libopengl-dev amd64 1.4.0-1 [3,400 B]\n",
            "Get:50 http://archive.ubuntu.com/ubuntu jammy/main amd64 libglvnd-dev amd64 1.4.0-1 [3,162 B]\n",
            "Get:51 http://archive.ubuntu.com/ubuntu jammy-updates/main amd64 libegl1-mesa-dev amd64 23.0.4-0ubuntu1~22.04.1 [10.7 kB]\n",
            "Get:52 http://archive.ubuntu.com/ubuntu jammy-updates/main amd64 libgl1-mesa-dev amd64 23.0.4-0ubuntu1~22.04.1 [6,510 B]\n",
            "Get:53 http://archive.ubuntu.com/ubuntu jammy/main amd64 libglu1-mesa amd64 9.0.2-1 [145 kB]\n",
            "Get:54 http://archive.ubuntu.com/ubuntu jammy/main amd64 libglu1-mesa-dev amd64 9.0.2-1 [231 kB]\n",
            "Get:55 http://archive.ubuntu.com/ubuntu jammy/universe amd64 libglew-dev amd64 2.2.0-4 [287 kB]\n",
            "Get:56 http://archive.ubuntu.com/ubuntu jammy/universe amd64 libglfw3 amd64 3.3.6-1 [83.2 kB]\n",
            "Get:57 http://archive.ubuntu.com/ubuntu jammy/universe amd64 libglfw3-dev amd64 3.3.6-1 [41.1 kB]\n",
            "Get:58 http://archive.ubuntu.com/ubuntu jammy-updates/universe amd64 libomp5-14 amd64 1:14.0.0-1ubuntu1.1 [389 kB]\n",
            "Get:59 http://archive.ubuntu.com/ubuntu jammy-updates/universe amd64 libomp-14-dev amd64 1:14.0.0-1ubuntu1.1 [347 kB]\n",
            "Get:60 http://archive.ubuntu.com/ubuntu jammy/main amd64 libvulkan1 amd64 1.3.204.1-2 [128 kB]\n",
            "Get:61 http://archive.ubuntu.com/ubuntu jammy/main amd64 libvulkan-dev amd64 1.3.204.1-2 [892 kB]\n",
            "Get:62 http://archive.ubuntu.com/ubuntu jammy/main amd64 libwacom-bin amd64 2.2.0-1 [13.6 kB]\n",
            "Get:63 http://archive.ubuntu.com/ubuntu jammy/main amd64 libxfixes-dev amd64 1:6.0.0-1 [12.2 kB]\n",
            "Get:64 http://archive.ubuntu.com/ubuntu jammy/main amd64 libxcursor-dev amd64 1:1.2.0-2build4 [28.2 kB]\n",
            "Get:65 http://archive.ubuntu.com/ubuntu jammy/main amd64 libxi-dev amd64 2:1.8-1build1 [193 kB]\n",
            "Get:66 http://archive.ubuntu.com/ubuntu jammy/main amd64 libxinerama-dev amd64 2:1.1.4-3 [8,104 B]\n",
            "Get:67 http://archive.ubuntu.com/ubuntu jammy/main amd64 libxrandr-dev amd64 2:1.5.2-1build1 [26.7 kB]\n",
            "Get:68 http://archive.ubuntu.com/ubuntu jammy-updates/main amd64 mesa-vulkan-drivers amd64 23.0.4-0ubuntu1~22.04.1 [9,521 kB]\n",
            "Get:69 http://archive.ubuntu.com/ubuntu jammy-updates/main amd64 python3-setuptools all 59.6.0-1.2ubuntu0.22.04.1 [339 kB]\n",
            "Get:70 http://archive.ubuntu.com/ubuntu jammy-updates/universe amd64 python3-wheel all 0.37.1-2ubuntu0.22.04.1 [32.0 kB]\n",
            "Get:71 http://archive.ubuntu.com/ubuntu jammy-updates/universe amd64 python3-pip all 22.0.2+dfsg-1ubuntu0.3 [1,305 kB]\n",
            "Get:72 http://archive.ubuntu.com/ubuntu jammy-updates/universe amd64 qt5-gtk-platformtheme amd64 5.15.3+dfsg-2ubuntu0.2 [130 kB]\n",
            "Get:73 http://archive.ubuntu.com/ubuntu jammy/universe amd64 qttranslations5-l10n all 5.15.3-1 [1,983 kB]\n",
            "Get:74 http://archive.ubuntu.com/ubuntu jammy/main amd64 libffi-dev amd64 3.4.2-4 [63.7 kB]\n",
            "Get:75 http://archive.ubuntu.com/ubuntu jammy/universe amd64 libomp-dev amd64 1:14.0-55~exp2 [3,074 B]\n",
            "Get:76 http://archive.ubuntu.com/ubuntu jammy-updates/main amd64 libwayland-bin amd64 1.20.0-1ubuntu0.1 [20.4 kB]\n",
            "Get:77 http://archive.ubuntu.com/ubuntu jammy-updates/main amd64 libwayland-dev amd64 1.20.0-1ubuntu0.1 [69.5 kB]\n",
            "Fetched 32.3 MB in 11s (2,899 kB/s)\n",
            "Extracting templates from packages: 100%\n",
            "Selecting previously unselected package libqt5core5a:amd64.\n",
            "(Reading database ... 120874 files and directories currently installed.)\n",
            "Preparing to unpack .../00-libqt5core5a_5.15.3+dfsg-2ubuntu0.2_amd64.deb ...\n",
            "Unpacking libqt5core5a:amd64 (5.15.3+dfsg-2ubuntu0.2) ...\n",
            "Selecting previously unselected package libevdev2:amd64.\n",
            "Preparing to unpack .../01-libevdev2_1.12.1+dfsg-1_amd64.deb ...\n",
            "Unpacking libevdev2:amd64 (1.12.1+dfsg-1) ...\n",
            "Selecting previously unselected package libmtdev1:amd64.\n",
            "Preparing to unpack .../02-libmtdev1_1.1.6-1build4_amd64.deb ...\n",
            "Unpacking libmtdev1:amd64 (1.1.6-1build4) ...\n",
            "Selecting previously unselected package libgudev-1.0-0:amd64.\n",
            "Preparing to unpack .../03-libgudev-1.0-0_1%3a237-2build1_amd64.deb ...\n",
            "Unpacking libgudev-1.0-0:amd64 (1:237-2build1) ...\n",
            "Selecting previously unselected package libwacom-common.\n",
            "Preparing to unpack .../04-libwacom-common_2.2.0-1_all.deb ...\n",
            "Unpacking libwacom-common (2.2.0-1) ...\n",
            "Selecting previously unselected package libwacom9:amd64.\n",
            "Preparing to unpack .../05-libwacom9_2.2.0-1_amd64.deb ...\n",
            "Unpacking libwacom9:amd64 (2.2.0-1) ...\n",
            "Selecting previously unselected package libinput-bin.\n",
            "Preparing to unpack .../06-libinput-bin_1.20.0-1ubuntu0.3_amd64.deb ...\n",
            "Unpacking libinput-bin (1.20.0-1ubuntu0.3) ...\n",
            "Selecting previously unselected package libinput10:amd64.\n",
            "Preparing to unpack .../07-libinput10_1.20.0-1ubuntu0.3_amd64.deb ...\n",
            "Unpacking libinput10:amd64 (1.20.0-1ubuntu0.3) ...\n",
            "Selecting previously unselected package libmd4c0:amd64.\n",
            "Preparing to unpack .../08-libmd4c0_0.4.8-1_amd64.deb ...\n",
            "Unpacking libmd4c0:amd64 (0.4.8-1) ...\n",
            "Selecting previously unselected package libqt5dbus5:amd64.\n",
            "Preparing to unpack .../09-libqt5dbus5_5.15.3+dfsg-2ubuntu0.2_amd64.deb ...\n",
            "Unpacking libqt5dbus5:amd64 (5.15.3+dfsg-2ubuntu0.2) ...\n",
            "Selecting previously unselected package libqt5network5:amd64.\n",
            "Preparing to unpack .../10-libqt5network5_5.15.3+dfsg-2ubuntu0.2_amd64.deb ...\n",
            "Unpacking libqt5network5:amd64 (5.15.3+dfsg-2ubuntu0.2) ...\n",
            "Selecting previously unselected package libxcb-icccm4:amd64.\n",
            "Preparing to unpack .../11-libxcb-icccm4_0.4.1-1.1build2_amd64.deb ...\n",
            "Unpacking libxcb-icccm4:amd64 (0.4.1-1.1build2) ...\n",
            "Selecting previously unselected package libxcb-util1:amd64.\n",
            "Preparing to unpack .../12-libxcb-util1_0.4.0-1build2_amd64.deb ...\n",
            "Unpacking libxcb-util1:amd64 (0.4.0-1build2) ...\n",
            "Selecting previously unselected package libxcb-image0:amd64.\n",
            "Preparing to unpack .../13-libxcb-image0_0.4.0-2_amd64.deb ...\n",
            "Unpacking libxcb-image0:amd64 (0.4.0-2) ...\n",
            "Selecting previously unselected package libxcb-keysyms1:amd64.\n",
            "Preparing to unpack .../14-libxcb-keysyms1_0.4.0-1build3_amd64.deb ...\n",
            "Unpacking libxcb-keysyms1:amd64 (0.4.0-1build3) ...\n",
            "Selecting previously unselected package libxcb-render-util0:amd64.\n",
            "Preparing to unpack .../15-libxcb-render-util0_0.3.9-1build3_amd64.deb ...\n",
            "Unpacking libxcb-render-util0:amd64 (0.3.9-1build3) ...\n",
            "Selecting previously unselected package libxcb-xinerama0:amd64.\n",
            "Preparing to unpack .../16-libxcb-xinerama0_1.14-3ubuntu3_amd64.deb ...\n",
            "Unpacking libxcb-xinerama0:amd64 (1.14-3ubuntu3) ...\n",
            "Selecting previously unselected package libxcb-xinput0:amd64.\n",
            "Preparing to unpack .../17-libxcb-xinput0_1.14-3ubuntu3_amd64.deb ...\n",
            "Unpacking libxcb-xinput0:amd64 (1.14-3ubuntu3) ...\n",
            "Selecting previously unselected package libxcb-xkb1:amd64.\n",
            "Preparing to unpack .../18-libxcb-xkb1_1.14-3ubuntu3_amd64.deb ...\n",
            "Unpacking libxcb-xkb1:amd64 (1.14-3ubuntu3) ...\n",
            "Selecting previously unselected package libxkbcommon-x11-0:amd64.\n",
            "Preparing to unpack .../19-libxkbcommon-x11-0_1.4.0-1_amd64.deb ...\n",
            "Unpacking libxkbcommon-x11-0:amd64 (1.4.0-1) ...\n",
            "Selecting previously unselected package libqt5gui5:amd64.\n",
            "Preparing to unpack .../20-libqt5gui5_5.15.3+dfsg-2ubuntu0.2_amd64.deb ...\n",
            "Unpacking libqt5gui5:amd64 (5.15.3+dfsg-2ubuntu0.2) ...\n",
            "Selecting previously unselected package libqt5widgets5:amd64.\n",
            "Preparing to unpack .../21-libqt5widgets5_5.15.3+dfsg-2ubuntu0.2_amd64.deb ...\n",
            "Unpacking libqt5widgets5:amd64 (5.15.3+dfsg-2ubuntu0.2) ...\n",
            "Selecting previously unselected package libqt5svg5:amd64.\n",
            "Preparing to unpack .../22-libqt5svg5_5.15.3-1_amd64.deb ...\n",
            "Unpacking libqt5svg5:amd64 (5.15.3-1) ...\n",
            "Selecting previously unselected package libsuitesparseconfig5:amd64.\n",
            "Preparing to unpack .../23-libsuitesparseconfig5_1%3a5.10.1+dfsg-4build1_amd64.deb ...\n",
            "Unpacking libsuitesparseconfig5:amd64 (1:5.10.1+dfsg-4build1) ...\n",
            "Selecting previously unselected package libamd2:amd64.\n",
            "Preparing to unpack .../24-libamd2_1%3a5.10.1+dfsg-4build1_amd64.deb ...\n",
            "Unpacking libamd2:amd64 (1:5.10.1+dfsg-4build1) ...\n",
            "Selecting previously unselected package libcamd2:amd64.\n",
            "Preparing to unpack .../25-libcamd2_1%3a5.10.1+dfsg-4build1_amd64.deb ...\n",
            "Unpacking libcamd2:amd64 (1:5.10.1+dfsg-4build1) ...\n",
            "Selecting previously unselected package libccolamd2:amd64.\n",
            "Preparing to unpack .../26-libccolamd2_1%3a5.10.1+dfsg-4build1_amd64.deb ...\n",
            "Unpacking libccolamd2:amd64 (1:5.10.1+dfsg-4build1) ...\n",
            "Selecting previously unselected package libcolamd2:amd64.\n",
            "Preparing to unpack .../27-libcolamd2_1%3a5.10.1+dfsg-4build1_amd64.deb ...\n",
            "Unpacking libcolamd2:amd64 (1:5.10.1+dfsg-4build1) ...\n",
            "Selecting previously unselected package libmetis5:amd64.\n",
            "Preparing to unpack .../28-libmetis5_5.1.0.dfsg-7build2_amd64.deb ...\n",
            "Unpacking libmetis5:amd64 (5.1.0.dfsg-7build2) ...\n",
            "Selecting previously unselected package libcholmod3:amd64.\n",
            "Preparing to unpack .../29-libcholmod3_1%3a5.10.1+dfsg-4build1_amd64.deb ...\n",
            "Unpacking libcholmod3:amd64 (1:5.10.1+dfsg-4build1) ...\n",
            "Selecting previously unselected package libcxsparse3:amd64.\n",
            "Preparing to unpack .../30-libcxsparse3_1%3a5.10.1+dfsg-4build1_amd64.deb ...\n",
            "Unpacking libcxsparse3:amd64 (1:5.10.1+dfsg-4build1) ...\n",
            "Selecting previously unselected package libgflags2.2.\n",
            "Preparing to unpack .../31-libgflags2.2_2.2.2-2_amd64.deb ...\n",
            "Unpacking libgflags2.2 (2.2.2-2) ...\n",
            "Selecting previously unselected package libgoogle-glog0v5.\n",
            "Preparing to unpack .../32-libgoogle-glog0v5_0.5.0+really0.4.0-2_amd64.deb ...\n",
            "Unpacking libgoogle-glog0v5 (0.5.0+really0.4.0-2) ...\n",
            "Selecting previously unselected package libspqr2:amd64.\n",
            "Preparing to unpack .../33-libspqr2_1%3a5.10.1+dfsg-4build1_amd64.deb ...\n",
            "Unpacking libspqr2:amd64 (1:5.10.1+dfsg-4build1) ...\n",
            "Selecting previously unselected package libceres2.\n",
            "Preparing to unpack .../34-libceres2_2.0.0+dfsg1-5_amd64.deb ...\n",
            "Unpacking libceres2 (2.0.0+dfsg1-5) ...\n",
            "Selecting previously unselected package libjxr0:amd64.\n",
            "Preparing to unpack .../35-libjxr0_1.2~git20170615.f752187-5_amd64.deb ...\n",
            "Unpacking libjxr0:amd64 (1.2~git20170615.f752187-5) ...\n",
            "Selecting previously unselected package libraw20:amd64.\n",
            "Preparing to unpack .../36-libraw20_0.20.2-2ubuntu2.22.04.1_amd64.deb ...\n",
            "Unpacking libraw20:amd64 (0.20.2-2ubuntu2.22.04.1) ...\n",
            "Selecting previously unselected package libfreeimage3:amd64.\n",
            "Preparing to unpack .../37-libfreeimage3_3.18.0+ds2-6ubuntu5_amd64.deb ...\n",
            "Unpacking libfreeimage3:amd64 (3.18.0+ds2-6ubuntu5) ...\n",
            "Selecting previously unselected package colmap.\n",
            "Preparing to unpack .../38-colmap_3.7-2_amd64.deb ...\n",
            "Unpacking colmap (3.7-2) ...\n",
            "Selecting previously unselected package libonig5:amd64.\n",
            "Preparing to unpack .../39-libonig5_6.9.7.1-2build1_amd64.deb ...\n",
            "Unpacking libonig5:amd64 (6.9.7.1-2build1) ...\n",
            "Selecting previously unselected package libjq1:amd64.\n",
            "Preparing to unpack .../40-libjq1_1.6-2.1ubuntu3_amd64.deb ...\n",
            "Unpacking libjq1:amd64 (1.6-2.1ubuntu3) ...\n",
            "Selecting previously unselected package jq.\n",
            "Preparing to unpack .../41-jq_1.6-2.1ubuntu3_amd64.deb ...\n",
            "Unpacking jq (1.6-2.1ubuntu3) ...\n",
            "Selecting previously unselected package libglx-dev:amd64.\n",
            "Preparing to unpack .../42-libglx-dev_1.4.0-1_amd64.deb ...\n",
            "Unpacking libglx-dev:amd64 (1.4.0-1) ...\n",
            "Selecting previously unselected package libgl-dev:amd64.\n",
            "Preparing to unpack .../43-libgl-dev_1.4.0-1_amd64.deb ...\n",
            "Unpacking libgl-dev:amd64 (1.4.0-1) ...\n",
            "Selecting previously unselected package libegl-dev:amd64.\n",
            "Preparing to unpack .../44-libegl-dev_1.4.0-1_amd64.deb ...\n",
            "Unpacking libegl-dev:amd64 (1.4.0-1) ...\n",
            "Selecting previously unselected package libglvnd-core-dev:amd64.\n",
            "Preparing to unpack .../45-libglvnd-core-dev_1.4.0-1_amd64.deb ...\n",
            "Unpacking libglvnd-core-dev:amd64 (1.4.0-1) ...\n",
            "Selecting previously unselected package libgles1:amd64.\n",
            "Preparing to unpack .../46-libgles1_1.4.0-1_amd64.deb ...\n",
            "Unpacking libgles1:amd64 (1.4.0-1) ...\n",
            "Selecting previously unselected package libgles-dev:amd64.\n",
            "Preparing to unpack .../47-libgles-dev_1.4.0-1_amd64.deb ...\n",
            "Unpacking libgles-dev:amd64 (1.4.0-1) ...\n",
            "Selecting previously unselected package libopengl-dev:amd64.\n",
            "Preparing to unpack .../48-libopengl-dev_1.4.0-1_amd64.deb ...\n",
            "Unpacking libopengl-dev:amd64 (1.4.0-1) ...\n",
            "Selecting previously unselected package libglvnd-dev:amd64.\n",
            "Preparing to unpack .../49-libglvnd-dev_1.4.0-1_amd64.deb ...\n",
            "Unpacking libglvnd-dev:amd64 (1.4.0-1) ...\n",
            "Selecting previously unselected package libegl1-mesa-dev:amd64.\n",
            "Preparing to unpack .../50-libegl1-mesa-dev_23.0.4-0ubuntu1~22.04.1_amd64.deb ...\n",
            "Unpacking libegl1-mesa-dev:amd64 (23.0.4-0ubuntu1~22.04.1) ...\n",
            "Selecting previously unselected package libgl1-mesa-dev:amd64.\n",
            "Preparing to unpack .../51-libgl1-mesa-dev_23.0.4-0ubuntu1~22.04.1_amd64.deb ...\n",
            "Unpacking libgl1-mesa-dev:amd64 (23.0.4-0ubuntu1~22.04.1) ...\n",
            "Selecting previously unselected package libglu1-mesa:amd64.\n",
            "Preparing to unpack .../52-libglu1-mesa_9.0.2-1_amd64.deb ...\n",
            "Unpacking libglu1-mesa:amd64 (9.0.2-1) ...\n",
            "Selecting previously unselected package libglu1-mesa-dev:amd64.\n",
            "Preparing to unpack .../53-libglu1-mesa-dev_9.0.2-1_amd64.deb ...\n",
            "Unpacking libglu1-mesa-dev:amd64 (9.0.2-1) ...\n",
            "Selecting previously unselected package libglew-dev:amd64.\n",
            "Preparing to unpack .../54-libglew-dev_2.2.0-4_amd64.deb ...\n",
            "Unpacking libglew-dev:amd64 (2.2.0-4) ...\n",
            "Selecting previously unselected package libglfw3:amd64.\n",
            "Preparing to unpack .../55-libglfw3_3.3.6-1_amd64.deb ...\n",
            "Unpacking libglfw3:amd64 (3.3.6-1) ...\n",
            "Selecting previously unselected package libglfw3-dev:amd64.\n",
            "Preparing to unpack .../56-libglfw3-dev_3.3.6-1_amd64.deb ...\n",
            "Unpacking libglfw3-dev:amd64 (3.3.6-1) ...\n",
            "Selecting previously unselected package libomp5-14:amd64.\n",
            "Preparing to unpack .../57-libomp5-14_1%3a14.0.0-1ubuntu1.1_amd64.deb ...\n",
            "Unpacking libomp5-14:amd64 (1:14.0.0-1ubuntu1.1) ...\n",
            "Selecting previously unselected package libomp-14-dev.\n",
            "Preparing to unpack .../58-libomp-14-dev_1%3a14.0.0-1ubuntu1.1_amd64.deb ...\n",
            "Unpacking libomp-14-dev (1:14.0.0-1ubuntu1.1) ...\n",
            "Selecting previously unselected package libvulkan1:amd64.\n",
            "Preparing to unpack .../59-libvulkan1_1.3.204.1-2_amd64.deb ...\n",
            "Unpacking libvulkan1:amd64 (1.3.204.1-2) ...\n",
            "Selecting previously unselected package libvulkan-dev:amd64.\n",
            "Preparing to unpack .../60-libvulkan-dev_1.3.204.1-2_amd64.deb ...\n",
            "Unpacking libvulkan-dev:amd64 (1.3.204.1-2) ...\n",
            "Selecting previously unselected package libwacom-bin.\n",
            "Preparing to unpack .../61-libwacom-bin_2.2.0-1_amd64.deb ...\n",
            "Unpacking libwacom-bin (2.2.0-1) ...\n",
            "Selecting previously unselected package libxfixes-dev:amd64.\n",
            "Preparing to unpack .../62-libxfixes-dev_1%3a6.0.0-1_amd64.deb ...\n",
            "Unpacking libxfixes-dev:amd64 (1:6.0.0-1) ...\n",
            "Selecting previously unselected package libxcursor-dev:amd64.\n",
            "Preparing to unpack .../63-libxcursor-dev_1%3a1.2.0-2build4_amd64.deb ...\n",
            "Unpacking libxcursor-dev:amd64 (1:1.2.0-2build4) ...\n",
            "Selecting previously unselected package libxi-dev:amd64.\n",
            "Preparing to unpack .../64-libxi-dev_2%3a1.8-1build1_amd64.deb ...\n",
            "Unpacking libxi-dev:amd64 (2:1.8-1build1) ...\n",
            "Selecting previously unselected package libxinerama-dev:amd64.\n",
            "Preparing to unpack .../65-libxinerama-dev_2%3a1.1.4-3_amd64.deb ...\n",
            "Unpacking libxinerama-dev:amd64 (2:1.1.4-3) ...\n",
            "Selecting previously unselected package libxrandr-dev:amd64.\n",
            "Preparing to unpack .../66-libxrandr-dev_2%3a1.5.2-1build1_amd64.deb ...\n",
            "Unpacking libxrandr-dev:amd64 (2:1.5.2-1build1) ...\n",
            "Selecting previously unselected package mesa-vulkan-drivers:amd64.\n",
            "Preparing to unpack .../67-mesa-vulkan-drivers_23.0.4-0ubuntu1~22.04.1_amd64.deb ...\n",
            "Unpacking mesa-vulkan-drivers:amd64 (23.0.4-0ubuntu1~22.04.1) ...\n",
            "Selecting previously unselected package python3-setuptools.\n",
            "Preparing to unpack .../68-python3-setuptools_59.6.0-1.2ubuntu0.22.04.1_all.deb ...\n",
            "Unpacking python3-setuptools (59.6.0-1.2ubuntu0.22.04.1) ...\n",
            "Selecting previously unselected package python3-wheel.\n",
            "Preparing to unpack .../69-python3-wheel_0.37.1-2ubuntu0.22.04.1_all.deb ...\n",
            "Unpacking python3-wheel (0.37.1-2ubuntu0.22.04.1) ...\n",
            "Selecting previously unselected package python3-pip.\n",
            "Preparing to unpack .../70-python3-pip_22.0.2+dfsg-1ubuntu0.3_all.deb ...\n",
            "Unpacking python3-pip (22.0.2+dfsg-1ubuntu0.3) ...\n",
            "Selecting previously unselected package qt5-gtk-platformtheme:amd64.\n",
            "Preparing to unpack .../71-qt5-gtk-platformtheme_5.15.3+dfsg-2ubuntu0.2_amd64.deb ...\n",
            "Unpacking qt5-gtk-platformtheme:amd64 (5.15.3+dfsg-2ubuntu0.2) ...\n",
            "Selecting previously unselected package qttranslations5-l10n.\n",
            "Preparing to unpack .../72-qttranslations5-l10n_5.15.3-1_all.deb ...\n",
            "Unpacking qttranslations5-l10n (5.15.3-1) ...\n",
            "Selecting previously unselected package libffi-dev:amd64.\n",
            "Preparing to unpack .../73-libffi-dev_3.4.2-4_amd64.deb ...\n",
            "Unpacking libffi-dev:amd64 (3.4.2-4) ...\n",
            "Selecting previously unselected package libomp-dev:amd64.\n",
            "Preparing to unpack .../74-libomp-dev_1%3a14.0-55~exp2_amd64.deb ...\n",
            "Unpacking libomp-dev:amd64 (1:14.0-55~exp2) ...\n",
            "Selecting previously unselected package libwayland-bin.\n",
            "Preparing to unpack .../75-libwayland-bin_1.20.0-1ubuntu0.1_amd64.deb ...\n",
            "Unpacking libwayland-bin (1.20.0-1ubuntu0.1) ...\n",
            "Selecting previously unselected package libwayland-dev:amd64.\n",
            "Preparing to unpack .../76-libwayland-dev_1.20.0-1ubuntu0.1_amd64.deb ...\n",
            "Unpacking libwayland-dev:amd64 (1.20.0-1ubuntu0.1) ...\n",
            "Setting up libomp5-14:amd64 (1:14.0.0-1ubuntu1.1) ...\n",
            "Setting up libglfw3:amd64 (3.3.6-1) ...\n",
            "Setting up python3-setuptools (59.6.0-1.2ubuntu0.22.04.1) ...\n",
            "Setting up libglvnd-core-dev:amd64 (1.4.0-1) ...\n",
            "Setting up libxcb-xinput0:amd64 (1.14-3ubuntu3) ...\n",
            "Setting up libjxr0:amd64 (1.2~git20170615.f752187-5) ...\n",
            "Setting up libxcb-keysyms1:amd64 (0.4.0-1build3) ...\n",
            "Setting up libxcb-render-util0:amd64 (0.3.9-1build3) ...\n",
            "Setting up libmetis5:amd64 (5.1.0.dfsg-7build2) ...\n",
            "Setting up libxcb-icccm4:amd64 (0.4.1-1.1build2) ...\n",
            "Setting up libffi-dev:amd64 (3.4.2-4) ...\n",
            "Setting up python3-wheel (0.37.1-2ubuntu0.22.04.1) ...\n",
            "Setting up libxcb-util1:amd64 (0.4.0-1build2) ...\n",
            "Setting up libxcb-xkb1:amd64 (1.14-3ubuntu3) ...\n",
            "Setting up libxcb-image0:amd64 (0.4.0-2) ...\n",
            "Setting up libxfixes-dev:amd64 (1:6.0.0-1) ...\n",
            "Setting up libwayland-bin (1.20.0-1ubuntu0.1) ...\n",
            "Setting up libxrandr-dev:amd64 (2:1.5.2-1build1) ...\n",
            "Setting up libxcb-xinerama0:amd64 (1.14-3ubuntu3) ...\n",
            "Setting up qttranslations5-l10n (5.15.3-1) ...\n",
            "Setting up libgles1:amd64 (1.4.0-1) ...\n",
            "Setting up libxkbcommon-x11-0:amd64 (1.4.0-1) ...\n",
            "Setting up libxinerama-dev:amd64 (2:1.1.4-3) ...\n",
            "Setting up python3-pip (22.0.2+dfsg-1ubuntu0.3) ...\n",
            "Setting up libqt5core5a:amd64 (5.15.3+dfsg-2ubuntu0.2) ...\n",
            "Setting up libraw20:amd64 (0.20.2-2ubuntu2.22.04.1) ...\n",
            "Setting up libmtdev1:amd64 (1.1.6-1build4) ...\n",
            "Setting up libvulkan1:amd64 (1.3.204.1-2) ...\n",
            "Setting up libqt5dbus5:amd64 (5.15.3+dfsg-2ubuntu0.2) ...\n",
            "Setting up libmd4c0:amd64 (0.4.8-1) ...\n",
            "Setting up libglx-dev:amd64 (1.4.0-1) ...\n",
            "Setting up libcxsparse3:amd64 (1:5.10.1+dfsg-4build1) ...\n",
            "Setting up libglu1-mesa:amd64 (9.0.2-1) ...\n",
            "Setting up libopengl-dev:amd64 (1.4.0-1) ...\n",
            "Setting up libxi-dev:amd64 (2:1.8-1build1) ...\n",
            "Setting up libomp-14-dev (1:14.0.0-1ubuntu1.1) ...\n",
            "Setting up libevdev2:amd64 (1.12.1+dfsg-1) ...\n",
            "Setting up libsuitesparseconfig5:amd64 (1:5.10.1+dfsg-4build1) ...\n",
            "Setting up libgl-dev:amd64 (1.4.0-1) ...\n",
            "Setting up libonig5:amd64 (6.9.7.1-2build1) ...\n",
            "Setting up libgudev-1.0-0:amd64 (1:237-2build1) ...\n",
            "Setting up libomp-dev:amd64 (1:14.0-55~exp2) ...\n",
            "Setting up libgflags2.2 (2.2.2-2) ...\n",
            "Setting up libwacom-common (2.2.0-1) ...\n",
            "Setting up mesa-vulkan-drivers:amd64 (23.0.4-0ubuntu1~22.04.1) ...\n",
            "Setting up libamd2:amd64 (1:5.10.1+dfsg-4build1) ...\n",
            "Setting up libfreeimage3:amd64 (3.18.0+ds2-6ubuntu5) ...\n",
            "Setting up libvulkan-dev:amd64 (1.3.204.1-2) ...\n",
            "Setting up libcolamd2:amd64 (1:5.10.1+dfsg-4build1) ...\n",
            "Setting up libglfw3-dev:amd64 (3.3.6-1) ...\n",
            "Setting up libegl-dev:amd64 (1.4.0-1) ...\n",
            "Setting up libwacom9:amd64 (2.2.0-1) ...\n",
            "Setting up libjq1:amd64 (1.6-2.1ubuntu3) ...\n",
            "Setting up libxcursor-dev:amd64 (1:1.2.0-2build4) ...\n",
            "Setting up libwayland-dev:amd64 (1.20.0-1ubuntu0.1) ...\n",
            "Setting up libqt5network5:amd64 (5.15.3+dfsg-2ubuntu0.2) ...\n",
            "Setting up libinput-bin (1.20.0-1ubuntu0.3) ...\n",
            "Setting up libcamd2:amd64 (1:5.10.1+dfsg-4build1) ...\n",
            "Setting up libglu1-mesa-dev:amd64 (9.0.2-1) ...\n",
            "Setting up libwacom-bin (2.2.0-1) ...\n",
            "Setting up libccolamd2:amd64 (1:5.10.1+dfsg-4build1) ...\n",
            "Setting up jq (1.6-2.1ubuntu3) ...\n",
            "Setting up libgles-dev:amd64 (1.4.0-1) ...\n",
            "Setting up libgoogle-glog0v5 (0.5.0+really0.4.0-2) ...\n",
            "Setting up libcholmod3:amd64 (1:5.10.1+dfsg-4build1) ...\n",
            "Setting up libinput10:amd64 (1.20.0-1ubuntu0.3) ...\n",
            "Setting up libspqr2:amd64 (1:5.10.1+dfsg-4build1) ...\n",
            "Setting up libqt5gui5:amd64 (5.15.3+dfsg-2ubuntu0.2) ...\n",
            "Setting up libglvnd-dev:amd64 (1.4.0-1) ...\n",
            "Setting up libqt5widgets5:amd64 (5.15.3+dfsg-2ubuntu0.2) ...\n",
            "Setting up qt5-gtk-platformtheme:amd64 (5.15.3+dfsg-2ubuntu0.2) ...\n",
            "Setting up libglew-dev:amd64 (2.2.0-4) ...\n",
            "Setting up libceres2 (2.0.0+dfsg1-5) ...\n",
            "Setting up libgl1-mesa-dev:amd64 (23.0.4-0ubuntu1~22.04.1) ...\n",
            "Setting up colmap (3.7-2) ...\n",
            "Setting up libegl1-mesa-dev:amd64 (23.0.4-0ubuntu1~22.04.1) ...\n",
            "Setting up libqt5svg5:amd64 (5.15.3-1) ...\n",
            "Processing triggers for libc-bin (2.35-0ubuntu3.1) ...\n",
            "/sbin/ldconfig.real: /usr/local/lib/libtbbmalloc.so.2 is not a symbolic link\n",
            "\n",
            "/sbin/ldconfig.real: /usr/local/lib/libtbbbind.so.3 is not a symbolic link\n",
            "\n",
            "/sbin/ldconfig.real: /usr/local/lib/libtbbmalloc_proxy.so.2 is not a symbolic link\n",
            "\n",
            "/sbin/ldconfig.real: /usr/local/lib/libtbbbind_2_5.so.3 is not a symbolic link\n",
            "\n",
            "/sbin/ldconfig.real: /usr/local/lib/libtbb.so.12 is not a symbolic link\n",
            "\n",
            "/sbin/ldconfig.real: /usr/local/lib/libtbbbind_2_0.so.3 is not a symbolic link\n",
            "\n",
            "Processing triggers for man-db (2.10.2-1) ...\n",
            "Requirement already satisfied: cmake in /usr/local/lib/python3.10/dist-packages (3.27.7)\n"
          ]
        }
      ],
      "source": [
        "!apt update && apt install build-essential git python3-dev python3-pip libopenexr-dev libxi-dev libglfw3-dev libglew-dev libomp-dev libxinerama-dev libxcursor-dev colmap ffmpeg jq\n",
        "!pip install --upgrade cmake"
      ]
    },
    {
      "cell_type": "code",
      "execution_count": 3,
      "metadata": {
        "colab": {
          "base_uri": "https://localhost:8080/"
        },
        "id": "ijgdl-TUcxnd",
        "outputId": "d8d9d8eb-f14c-412a-cd9c-3d899a02ac28"
      },
      "outputs": [
        {
          "output_type": "stream",
          "name": "stdout",
          "text": [
            "Cloning into 'instant-ngp'...\n",
            "remote: Enumerating objects: 4278, done.\u001b[K\n",
            "remote: Counting objects: 100% (178/178), done.\u001b[K\n",
            "remote: Compressing objects: 100% (108/108), done.\u001b[K\n",
            "remote: Total 4278 (delta 69), reused 127 (delta 66), pack-reused 4100\u001b[K\n",
            "Receiving objects: 100% (4278/4278), 187.20 MiB | 46.72 MiB/s, done.\n",
            "Resolving deltas: 100% (2694/2694), done.\n",
            "Submodule 'dependencies/OpenXR-SDK' (https://github.com/KhronosGroup/OpenXR-SDK.git) registered for path 'dependencies/OpenXR-SDK'\n",
            "Submodule 'dependencies/args' (https://github.com/Taywee/args) registered for path 'dependencies/args'\n",
            "Submodule 'dependencies/dlss' (https://github.com/NVIDIA/DLSS) registered for path 'dependencies/dlss'\n",
            "Submodule 'dependencies/glfw' (https://github.com/Tom94/glfw) registered for path 'dependencies/glfw'\n",
            "Submodule 'dependencies/imgui' (https://github.com/ocornut/imgui.git) registered for path 'dependencies/imgui'\n",
            "Submodule 'dependencies/pybind11' (https://github.com/Tom94/pybind11) registered for path 'dependencies/pybind11'\n",
            "Submodule 'dependencies/tiny-cuda-nn' (https://github.com/NVlabs/tiny-cuda-nn) registered for path 'dependencies/tiny-cuda-nn'\n",
            "Submodule 'dependencies/tinylogger' (https://github.com/Tom94/tinylogger) registered for path 'dependencies/tinylogger'\n",
            "Submodule 'dependencies/zlib' (https://github.com/Tom94/zlib) registered for path 'dependencies/zlib'\n",
            "Submodule 'dependencies/zstr' (https://github.com/Tom94/zstr) registered for path 'dependencies/zstr'\n",
            "Cloning into '/content/instant-ngp/dependencies/OpenXR-SDK'...\n",
            "remote: Enumerating objects: 3150, done.        \n",
            "remote: Counting objects: 100% (87/87), done.        \n",
            "remote: Compressing objects: 100% (37/37), done.        \n",
            "remote: Total 3150 (delta 65), reused 50 (delta 50), pack-reused 3063        \n",
            "Receiving objects: 100% (3150/3150), 5.69 MiB | 24.57 MiB/s, done.\n",
            "Resolving deltas: 100% (1979/1979), done.\n",
            "Cloning into '/content/instant-ngp/dependencies/args'...\n",
            "remote: Enumerating objects: 4362, done.        \n",
            "remote: Counting objects: 100% (449/449), done.        \n",
            "remote: Compressing objects: 100% (203/203), done.        \n",
            "remote: Total 4362 (delta 264), reused 402 (delta 240), pack-reused 3913        \n",
            "Receiving objects: 100% (4362/4362), 2.76 MiB | 15.37 MiB/s, done.\n",
            "Resolving deltas: 100% (3594/3594), done.\n",
            "Cloning into '/content/instant-ngp/dependencies/dlss'...\n",
            "remote: Enumerating objects: 350, done.        \n",
            "remote: Counting objects: 100% (122/122), done.        \n",
            "remote: Compressing objects: 100% (63/63), done.        \n",
            "remote: Total 350 (delta 60), reused 105 (delta 49), pack-reused 228        \n",
            "Receiving objects: 100% (350/350), 217.14 MiB | 28.16 MiB/s, done.\n",
            "Resolving deltas: 100% (187/187), done.\n",
            "Cloning into '/content/instant-ngp/dependencies/glfw'...\n",
            "remote: Enumerating objects: 26058, done.        \n",
            "remote: Total 26058 (delta 0), reused 0 (delta 0), pack-reused 26058        \n",
            "Receiving objects: 100% (26058/26058), 13.12 MiB | 25.49 MiB/s, done.\n",
            "Resolving deltas: 100% (18362/18362), done.\n",
            "Cloning into '/content/instant-ngp/dependencies/imgui'...\n",
            "remote: Enumerating objects: 51289, done.        \n",
            "remote: Counting objects: 100% (465/465), done.        \n",
            "remote: Compressing objects: 100% (142/142), done.        \n",
            "remote: Total 51289 (delta 352), reused 420 (delta 323), pack-reused 50824        \n",
            "Receiving objects: 100% (51289/51289), 83.94 MiB | 28.80 MiB/s, done.\n",
            "Resolving deltas: 100% (39674/39674), done.\n",
            "Cloning into '/content/instant-ngp/dependencies/pybind11'...\n",
            "remote: Enumerating objects: 19885, done.        \n",
            "remote: Total 19885 (delta 0), reused 0 (delta 0), pack-reused 19885        \n",
            "Receiving objects: 100% (19885/19885), 8.51 MiB | 24.63 MiB/s, done.\n",
            "Resolving deltas: 100% (13727/13727), done.\n",
            "Cloning into '/content/instant-ngp/dependencies/tiny-cuda-nn'...\n",
            "remote: Enumerating objects: 4055, done.        \n",
            "remote: Counting objects: 100% (1261/1261), done.        \n",
            "remote: Compressing objects: 100% (184/184), done.        \n",
            "remote: Total 4055 (delta 1102), reused 1130 (delta 1062), pack-reused 2794        \n",
            "Receiving objects: 100% (4055/4055), 19.59 MiB | 36.75 MiB/s, done.\n",
            "Resolving deltas: 100% (2611/2611), done.\n",
            "Cloning into '/content/instant-ngp/dependencies/tinylogger'...\n",
            "remote: Enumerating objects: 165, done.        \n",
            "remote: Counting objects: 100% (14/14), done.        \n",
            "remote: Compressing objects: 100% (8/8), done.        \n",
            "remote: Total 165 (delta 5), reused 12 (delta 4), pack-reused 151        \n",
            "Receiving objects: 100% (165/165), 30.00 KiB | 3.75 MiB/s, done.\n",
            "Resolving deltas: 100% (77/77), done.\n",
            "Cloning into '/content/instant-ngp/dependencies/zlib'...\n",
            "remote: Enumerating objects: 4940, done.        \n",
            "remote: Total 4940 (delta 0), reused 0 (delta 0), pack-reused 4940        \n",
            "Receiving objects: 100% (4940/4940), 2.64 MiB | 15.80 MiB/s, done.\n",
            "Resolving deltas: 100% (3459/3459), done.\n",
            "Cloning into '/content/instant-ngp/dependencies/zstr'...\n",
            "remote: Enumerating objects: 473, done.        \n",
            "remote: Counting objects: 100% (195/195), done.        \n",
            "remote: Compressing objects: 100% (58/58), done.        \n",
            "remote: Total 473 (delta 154), reused 141 (delta 137), pack-reused 278        \n",
            "Receiving objects: 100% (473/473), 92.65 KiB | 4.41 MiB/s, done.\n",
            "Resolving deltas: 100% (231/231), done.\n",
            "Submodule path 'dependencies/OpenXR-SDK': checked out 'e2da9ce83a4388c9622da328bf48548471261290'\n",
            "Submodule path 'dependencies/args': checked out 'a48e1f880813b367d2354963a58dedbf2b708584'\n",
            "Submodule path 'dependencies/dlss': checked out 'b3559040f968d26b2edbe37e8e3ceda4b8d1275a'\n",
            "Submodule 'NVIDIAImageScaling' (https://github.com/NVIDIAGameWorks/NVIDIAImageScaling) registered for path 'dependencies/dlss/NVIDIAImageScaling'\n",
            "Cloning into '/content/instant-ngp/dependencies/dlss/NVIDIAImageScaling'...\n",
            "remote: Enumerating objects: 744, done.        \n",
            "remote: Counting objects: 100% (6/6), done.        \n",
            "remote: Compressing objects: 100% (4/4), done.        \n",
            "remote: Total 744 (delta 2), reused 2 (delta 2), pack-reused 738        \n",
            "Receiving objects: 100% (744/744), 37.67 MiB | 27.28 MiB/s, done.\n",
            "Resolving deltas: 100% (245/245), done.\n",
            "Submodule path 'dependencies/dlss/NVIDIAImageScaling': checked out '4d3f6f1b421dda208b937f2ac78657c6753efccd'\n",
            "Submodule path 'dependencies/glfw': checked out '71eb7036b47e2733c2f7b4c0010e2ce62557009d'\n",
            "Submodule path 'dependencies/imgui': checked out 'fa2b318dd6190852a6fe7ebc952b6551e93899e0'\n",
            "Submodule path 'dependencies/pybind11': checked out '7a5068336979377fbf4aa66bbaa483c4cb1c76a7'\n",
            "Submodule path 'dependencies/tiny-cuda-nn': checked out '6f018a9cd1b369bcb247e1d539968db8e48b2b3f'\n",
            "Submodule 'dependencies/cutlass' (https://github.com/NVIDIA/cutlass) registered for path 'dependencies/tiny-cuda-nn/dependencies/cutlass'\n",
            "Submodule 'dependencies/fmt' (https://github.com/fmtlib/fmt) registered for path 'dependencies/tiny-cuda-nn/dependencies/fmt'\n",
            "Cloning into '/content/instant-ngp/dependencies/tiny-cuda-nn/dependencies/cutlass'...\n",
            "remote: Enumerating objects: 22330, done.        \n",
            "remote: Counting objects: 100% (5347/5347), done.        \n",
            "remote: Compressing objects: 100% (605/605), done.        \n",
            "remote: Total 22330 (delta 4923), reused 4776 (delta 4742), pack-reused 16983        \n",
            "Receiving objects: 100% (22330/22330), 30.99 MiB | 18.73 MiB/s, done.\n",
            "Resolving deltas: 100% (16789/16789), done.\n",
            "Cloning into '/content/instant-ngp/dependencies/tiny-cuda-nn/dependencies/fmt'...\n",
            "remote: Enumerating objects: 33174, done.        \n",
            "remote: Counting objects: 100% (33174/33174), done.        \n",
            "remote: Compressing objects: 100% (8103/8103), done.        \n",
            "remote: Total 33174 (delta 22539), reused 33043 (delta 22487), pack-reused 0        \n",
            "Receiving objects: 100% (33174/33174), 13.67 MiB | 25.92 MiB/s, done.\n",
            "Resolving deltas: 100% (22539/22539), done.\n",
            "Submodule path 'dependencies/tiny-cuda-nn/dependencies/cutlass': checked out '1eb6355182a5124639ce9d3ff165732a94ed9a70'\n",
            "Submodule path 'dependencies/tiny-cuda-nn/dependencies/fmt': checked out 'b0c8263cb26ea178d3a5df1b984e1a61ef578950'\n",
            "Submodule path 'dependencies/tinylogger': checked out 'aea07e21a3c0f0590513dd23f2ea7b2271312dfc'\n",
            "Submodule path 'dependencies/zlib': checked out 'fafd714d8b3ce85a6decf566e3b5b611352eadea'\n",
            "Submodule path 'dependencies/zstr': checked out '007f97607865934fb52e08248f152712e428688a'\n",
            "/content/instant-ngp\n"
          ]
        }
      ],
      "source": [
        "!git clone --recursive https://github.com/nvlabs/instant-ngp\n",
        "%cd instant-ngp"
      ]
    },
    {
      "cell_type": "markdown",
      "metadata": {
        "id": "SF4CRM2-rqn1"
      },
      "source": [
        "## 3. Set compute capability\n",
        "Find the compute capability of the GPU in your **local** machine in the following link:\n",
        "https://developer.nvidia.com/cuda-gpus\n",
        "\n",
        "You need this to be able to open your trained models in `testbed` inside your local machine later on, so you can explore them or trace a camera path in order to generate a video from your scene."
      ]
    },
    {
      "cell_type": "code",
      "execution_count": 12,
      "metadata": {
        "colab": {
          "base_uri": "https://localhost:8080/"
        },
        "id": "Yf9H-wO0o1Ax",
        "outputId": "32b1c154-2ca1-4b1f-ea1d-933df7827e8b"
      },
      "outputs": [
        {
          "output_type": "stream",
          "name": "stdout",
          "text": [
            "env: TCNN_CUDA_ARCHITECTURES=75\n"
          ]
        }
      ],
      "source": [
        "compute_capability = \"75\" #@param [50, 52, 60, 61, 70, 72, 75, 80, 86, 87]\n",
        "%env TCNN_CUDA_ARCHITECTURES=$compute_capability\n"
      ]
    },
    {
      "cell_type": "markdown",
      "metadata": {
        "id": "X6PLafxjtoc1"
      },
      "source": [
        "## 4. Set the right network configuration\n",
        "For compatibility between the model trained here and the local machine, a network with FP32 or FP16 is chosen.\n",
        "\n",
        "https://docs.nvidia.com/deeplearning/tensorrt/support-matrix/index.html#hardware-precision-matrix"
      ]
    },
    {
      "cell_type": "code",
      "execution_count": 19,
      "metadata": {
        "colab": {
          "base_uri": "https://localhost:8080/"
        },
        "id": "KFZAbFtUqQkc",
        "outputId": "520a6a42-c240-4534-9548-a1ad09da8154"
      },
      "outputs": [
        {
          "output_type": "stream",
          "name": "stdout",
          "text": [
            "Using FullyFusedMLP\n",
            "env: NN_CONFIG_PATH=./configs/nerf/base.json\n"
          ]
        }
      ],
      "source": [
        "network_type = \"FullyFusedMLP\" if int(compute_capability) >= 70 else \"CutlassMLP\"\n",
        "print(f\"Using {network_type}\")\n",
        "%env NN_CONFIG_PATH = ./configs/nerf/base.json\n",
        "!jq '.network.otype = \"CutlassMLP\" | .rgb_network.otype = \"CutlassMLP\"' $NN_CONFIG_PATH | sponge $NN_CONFIG_PATH"
      ]
    },
    {
      "cell_type": "markdown",
      "metadata": {
        "id": "P9XhY2souWum"
      },
      "source": [
        "## 5. Build the project and install python requirements"
      ]
    },
    {
      "cell_type": "code",
      "execution_count": 20,
      "metadata": {
        "colab": {
          "base_uri": "https://localhost:8080/"
        },
        "id": "B7E55zXYc1gD",
        "outputId": "229b3b04-0fca-47b4-b933-1538fc722dc0"
      },
      "outputs": [
        {
          "output_type": "stream",
          "name": "stdout",
          "text": [
            "-- Obtained CUDA architectures from environment variable TCNN_CUDA_ARCHITECTURES=75\n",
            "-- Targeting CUDA architectures: 75\n",
            "-- Module support is disabled.\n",
            "-- Version: 9.1.1\n",
            "-- Build type: Release\n",
            "\u001b[0mCMake Deprecation Warning at dependencies/pybind11/CMakeLists.txt:8 (cmake_minimum_required):\n",
            "  Compatibility with CMake < 3.5 will be removed from a future version of\n",
            "  CMake.\n",
            "\n",
            "  Update the VERSION argument <min> value or use a ...<max> suffix to tell\n",
            "  CMake that the project does not need compatibility with older versions.\n",
            "\n",
            "\u001b[0m\n",
            "-- pybind11 v2.10.1 \n",
            "-- zstr - found ZLIB (version: 1.2.11)\n",
            "-- zstr - added INTERFACE target 'zstr::zstr'\n",
            "          includes : /content/instant-ngp/dependencies/zstr/src;/usr/include\n",
            "          libraries: ZLIB::ZLIB\n",
            "          features : cxx_std_11\n",
            "-- Configuring done (0.2s)\n",
            "-- Generating done (0.0s)\n",
            "-- Build files have been written to: /content/instant-ngp/build\n"
          ]
        }
      ],
      "source": [
        "!cmake . -B build -DNGP_BUILD_WITH_GUI=OFF"
      ]
    },
    {
      "cell_type": "code",
      "execution_count": 21,
      "metadata": {
        "colab": {
          "base_uri": "https://localhost:8080/"
        },
        "id": "cpuhlQmJcDPJ",
        "outputId": "dd7d0aed-81ea-49fe-ebca-eb245284345f"
      },
      "outputs": [
        {
          "output_type": "stream",
          "name": "stdout",
          "text": [
            "[  7%] Built target fmt\n",
            "[ 15%] Built target optix_program\n",
            "[ 18%] \u001b[32mBuilding CUDA object dependencies/tiny-cuda-nn/CMakeFiles/tiny-cuda-nn.dir/src/common_host.cu.o\u001b[0m\n",
            "[ 21%] \u001b[32mBuilding CUDA object dependencies/tiny-cuda-nn/CMakeFiles/tiny-cuda-nn.dir/src/cpp_api.cu.o\u001b[0m\n",
            "[ 23%] \u001b[32mBuilding CUDA object dependencies/tiny-cuda-nn/CMakeFiles/tiny-cuda-nn.dir/src/cutlass_mlp.cu.o\u001b[0m\n",
            "[ 26%] \u001b[32mBuilding CUDA object dependencies/tiny-cuda-nn/CMakeFiles/tiny-cuda-nn.dir/src/encoding.cu.o\u001b[0m\n",
            "[ 28%] \u001b[32mBuilding CUDA object dependencies/tiny-cuda-nn/CMakeFiles/tiny-cuda-nn.dir/src/loss.cu.o\u001b[0m\n",
            "[ 31%] \u001b[32mBuilding CUDA object dependencies/tiny-cuda-nn/CMakeFiles/tiny-cuda-nn.dir/src/network.cu.o\u001b[0m\n",
            "[ 34%] \u001b[32mBuilding CUDA object dependencies/tiny-cuda-nn/CMakeFiles/tiny-cuda-nn.dir/src/object.cu.o\u001b[0m\n",
            "[ 36%] \u001b[32mBuilding CUDA object dependencies/tiny-cuda-nn/CMakeFiles/tiny-cuda-nn.dir/src/optimizer.cu.o\u001b[0m\n",
            "[ 39%] \u001b[32mBuilding CUDA object dependencies/tiny-cuda-nn/CMakeFiles/tiny-cuda-nn.dir/src/reduce_sum.cu.o\u001b[0m\n",
            "[ 42%] \u001b[32mBuilding CUDA object dependencies/tiny-cuda-nn/CMakeFiles/tiny-cuda-nn.dir/src/fully_fused_mlp.cu.o\u001b[0m\n",
            "[ 44%] \u001b[32m\u001b[1mLinking CXX static library libtiny-cuda-nn.a\u001b[0m\n",
            "[ 44%] Built target tiny-cuda-nn\n",
            "[ 47%] \u001b[32mBuilding CUDA object CMakeFiles/ngp.dir/src/camera_path.cu.o\u001b[0m\n",
            "[ 50%] \u001b[32mBuilding CUDA object CMakeFiles/ngp.dir/src/common_host.cu.o\u001b[0m\n",
            "[ 52%] \u001b[32mBuilding CUDA object CMakeFiles/ngp.dir/src/marching_cubes.cu.o\u001b[0m\n",
            "[ 55%] \u001b[32mBuilding CUDA object CMakeFiles/ngp.dir/src/nerf_loader.cu.o\u001b[0m\n",
            "[ 57%] \u001b[32mBuilding CUDA object CMakeFiles/ngp.dir/src/render_buffer.cu.o\u001b[0m\n",
            "[ 60%] \u001b[32mBuilding CUDA object CMakeFiles/ngp.dir/src/testbed.cu.o\u001b[0m\n",
            "[ 63%] \u001b[32mBuilding CUDA object CMakeFiles/ngp.dir/src/testbed_image.cu.o\u001b[0m\n",
            "[ 65%] \u001b[32mBuilding CUDA object CMakeFiles/ngp.dir/src/testbed_nerf.cu.o\u001b[0m\n",
            "\u001b[01m\u001b[0m\u001b[01m/content/instant-ngp/src/testbed_nerf.cu(1854)\u001b[0m: \u001b[01;35mwarning\u001b[0m #177-D: variable \u001b[01m\"resolution\"\u001b[0m was declared but never referenced\n",
            "\n",
            "[ 68%] \u001b[32mBuilding CUDA object CMakeFiles/ngp.dir/src/testbed_sdf.cu.o\u001b[0m\n",
            "[ 71%] \u001b[32mBuilding CUDA object CMakeFiles/ngp.dir/src/testbed_volume.cu.o\u001b[0m\n",
            "[ 73%] \u001b[32mBuilding CXX object CMakeFiles/ngp.dir/src/thread_pool.cpp.o\u001b[0m\n",
            "[ 76%] \u001b[32mBuilding CUDA object CMakeFiles/ngp.dir/src/tinyexr_wrapper.cu.o\u001b[0m\n",
            "[ 78%] \u001b[32mBuilding CUDA object CMakeFiles/ngp.dir/src/tinyobj_loader_wrapper.cu.o\u001b[0m\n",
            "[ 81%] \u001b[32mBuilding CUDA object CMakeFiles/ngp.dir/src/triangle_bvh.cu.o\u001b[0m\n",
            "[ 84%] \u001b[32m\u001b[1mLinking CUDA device code CMakeFiles/ngp.dir/cmake_device_link.o\u001b[0m\n",
            "[ 86%] \u001b[32m\u001b[1mLinking CXX static library libngp.a\u001b[0m\n",
            "[ 89%] Built target ngp\n",
            "[ 92%] \u001b[32mBuilding CUDA object CMakeFiles/pyngp.dir/src/python_api.cu.o\u001b[0m\n",
            "[ 94%] \u001b[32mBuilding CUDA object CMakeFiles/instant-ngp.dir/src/main.cu.o\u001b[0m\n",
            "[ 97%] \u001b[32m\u001b[1mLinking CXX executable instant-ngp\u001b[0m\n",
            "[ 97%] Built target instant-ngp\n",
            "/content/instant-ngp/dependencies/tiny-cuda-nn/include/tiny-cuda-nn/vec_pybind11.h: In instantiation of ‘\u001b[01m\u001b[Kbool pybind11::detail::type_caster<tcnn::tvec<T, N>, void>::load(pybind11::handle, bool) [with T = float; unsigned int N = 3]\u001b[m\u001b[K’:\n",
            "\u001b[01m\u001b[K/content/instant-ngp/dependencies/pybind11/include/pybind11/cast.h:1427:47:\u001b[m\u001b[K   required from ‘\u001b[01m\u001b[Kbool pybind11::detail::argument_loader<Args>::load_impl_sequence(pybind11::detail::function_call&, std::index_sequence<Is ...>) [with long unsigned int ...Is = {0, 1}; Args = {const ngp::BoundingBox*, const tcnn::tvec<float, 3, 4>&}; std::index_sequence<Is ...> = std::integer_sequence<long unsigned int, 0, 1>]\u001b[m\u001b[K’\n",
            "\u001b[01m\u001b[K/content/instant-ngp/dependencies/pybind11/include/pybind11/cast.h:1401:64:\u001b[m\u001b[K   required from ‘\u001b[01m\u001b[Kbool pybind11::detail::argument_loader<Args>::load_args(pybind11::detail::function_call&) [with Args = {const ngp::BoundingBox*, const tcnn::tvec<float, 3, 4>&}]\u001b[m\u001b[K’\n",
            "\u001b[01m\u001b[K/content/instant-ngp/dependencies/pybind11/include/pybind11/pybind11.h:228:30:\u001b[m\u001b[K   required from ‘\u001b[01m\u001b[Kvoid pybind11::cpp_function::initialize(Func&&, Return (*)(Args ...), const Extra& ...) [with Func = pybind11::cpp_function::cpp_function<bool, ngp::BoundingBox, const tcnn::tvec<float, 3, 4>&, pybind11::name, pybind11::is_method, pybind11::sibling>(bool (ngp::BoundingBox::*)(const tcnn::tvec<float, 3, 4>&) const, const pybind11::name&, const pybind11::is_method&, const pybind11::sibling&)::<lambda(const ngp::BoundingBox*, const tcnn::tvec<float, 3, 4>&)>; Return = bool; Args = {const ngp::BoundingBox*, const tcnn::tvec<float, 3, 4>&}; Extra = {pybind11::name, pybind11::is_method, pybind11::sibling}]\u001b[m\u001b[K’\n",
            "\u001b[01m\u001b[K/content/instant-ngp/dependencies/pybind11/include/pybind11/pybind11.h:130:11:\u001b[m\u001b[K   required from ‘\u001b[01m\u001b[Kpybind11::cpp_function::cpp_function(Return (Class::*)(Arg ...) const, const Extra& ...) [with Return = bool; Class = ngp::BoundingBox; Arg = {const tcnn::tvec<float, 3, 4>&}; Extra = {pybind11::name, pybind11::is_method, pybind11::sibling}]\u001b[m\u001b[K’\n",
            "\u001b[01m\u001b[K/content/instant-ngp/dependencies/pybind11/include/pybind11/pybind11.h:1558:14:\u001b[m\u001b[K   required from ‘\u001b[01m\u001b[Kpybind11::class_<type_, options>& pybind11::class_<type_, options>::def(const char*, Func&&, const Extra& ...) [with Func = bool (ngp::BoundingBox::*)(const tcnn::tvec<float, 3, 4>&) const; Extra = {}; type_ = ngp::BoundingBox; options = {}]\u001b[m\u001b[K’\n",
            "\u001b[01m\u001b[K/content/instant-ngp/src/python_api.cu:354:193:\u001b[m\u001b[K   required from here\n",
            "\u001b[01m\u001b[K/content/instant-ngp/dependencies/tiny-cuda-nn/include/tiny-cuda-nn/vec_pybind11.h:52:33:\u001b[m\u001b[K \u001b[01;35m\u001b[Kwarning: \u001b[m\u001b[K‘\u001b[01m\u001b[Kpybind11::array_t<T, ExtraFlags>::array_t(pybind11::handle, bool) [with T = float; int ExtraFlags = 16]\u001b[m\u001b[K’ is deprecated: Use array_t<T>::ensure() instead [\u001b[01;35m\u001b[K\u001b]8;;https://gcc.gnu.org/onlinedocs/gcc/Warning-Options.html#index-Wdeprecated-declarations\u0007-Wdeprecated-declarations\u001b]8;;\u0007\u001b[m\u001b[K]\n",
            "   52 |                 array_t<Scalar> \u001b[01;35m\u001b[Kbuf\u001b[m\u001b[K(src, true);\n",
            "      |                                 \u001b[01;35m\u001b[K^~~\u001b[m\u001b[K\n",
            "\u001b[01m\u001b[K/content/instant-ngp/dependencies/pybind11/include/pybind11/numpy.h:1037:1:\u001b[m\u001b[K \u001b[01;36m\u001b[Knote: \u001b[m\u001b[Kdeclared here\n",
            " 1037 | \u001b[01;36m\u001b[K    arr\u001b[m\u001b[Kay_t(handle h, bool is_borrowed) : array(raw_array_t(h.ptr()), stolen_t{}) {\n",
            "      | \u001b[01;36m\u001b[K^\u001b[m\u001b[K   \u001b[01;36m\u001b[K~~~\u001b[m\u001b[K\n",
            "\u001b[01m\u001b[K/content/instant-ngp/dependencies/tiny-cuda-nn/include/tiny-cuda-nn/vec_pybind11.h:53:29:\u001b[m\u001b[K \u001b[01;35m\u001b[Kwarning: \u001b[m\u001b[K‘\u001b[01m\u001b[Kbool pybind11::array::check() const\u001b[m\u001b[K’ is deprecated: Use py::isinstance<py::python_type>(obj) instead [\u001b[01;35m\u001b[K\u001b]8;;https://gcc.gnu.org/onlinedocs/gcc/Warning-Options.html#index-Wdeprecated-declarations\u0007-Wdeprecated-declarations\u001b]8;;\u0007\u001b[m\u001b[K]\n",
            "   53 |                 if \u001b[01;35m\u001b[K(!buf.check\u001b[m\u001b[K()) {\n",
            "      |                    \u001b[01;35m\u001b[K~~~~~~~~~^~\u001b[m\u001b[K\n",
            "\u001b[01m\u001b[K/content/instant-ngp/dependencies/pybind11/include/pybind11/numpy.h:682:385:\u001b[m\u001b[K \u001b[01;36m\u001b[Knote: \u001b[m\u001b[Kdeclared here\n",
            "  682 |     PYBIND11_OBJECT_CVT(array, buffer, detail::npy_api::get().PyArray_Check_, raw_array)\n",
            "      |                                                                                                                                                                                                                                                                                                                                                                                                 \u001b[01;36m\u001b[K^\u001b[m\u001b[K    \n",
            "/content/instant-ngp/dependencies/tiny-cuda-nn/include/tiny-cuda-nn/vec_pybind11.h: In instantiation of ‘\u001b[01m\u001b[Kbool pybind11::detail::type_caster<tcnn::tvec<T, N>, void>::load(pybind11::handle, bool) [with T = int; unsigned int N = 3]\u001b[m\u001b[K’:\n",
            "\u001b[01m\u001b[K/content/instant-ngp/dependencies/pybind11/include/pybind11/cast.h:1427:47:\u001b[m\u001b[K   required from ‘\u001b[01m\u001b[Kbool pybind11::detail::argument_loader<Args>::load_impl_sequence(pybind11::detail::function_call&, std::index_sequence<Is ...>) [with long unsigned int ...Is = {0, 1, 2, 3, 4, 5}; Args = {ngp::Testbed*, const filesystem::path&, tcnn::tvec<int, 3, 4>, ngp::BoundingBox, float, bool}; std::index_sequence<Is ...> = std::integer_sequence<long unsigned int, 0, 1, 2, 3, 4, 5>]\u001b[m\u001b[K’\n",
            "\u001b[01m\u001b[K/content/instant-ngp/dependencies/pybind11/include/pybind11/cast.h:1401:64:\u001b[m\u001b[K   required from ‘\u001b[01m\u001b[Kbool pybind11::detail::argument_loader<Args>::load_args(pybind11::detail::function_call&) [with Args = {ngp::Testbed*, const filesystem::path&, tcnn::tvec<int, 3, 4>, ngp::BoundingBox, float, bool}]\u001b[m\u001b[K’\n",
            "\u001b[01m\u001b[K/content/instant-ngp/dependencies/pybind11/include/pybind11/pybind11.h:228:30:\u001b[m\u001b[K   required from ‘\u001b[01m\u001b[Kvoid pybind11::cpp_function::initialize(Func&&, Return (*)(Args ...), const Extra& ...) [with Func = pybind11::cpp_function::cpp_function<void, ngp::Testbed, const filesystem::path&, tcnn::tvec<int, 3, 4>, ngp::BoundingBox, float, bool, pybind11::name, pybind11::is_method, pybind11::sibling, pybind11::arg, pybind11::arg_v, pybind11::arg_v, pybind11::arg_v, pybind11::arg_v, char [341]>(void (ngp::Testbed::*)(const filesystem::path&, tcnn::tvec<int, 3, 4>, ngp::BoundingBox, float, bool), const pybind11::name&, const pybind11::is_method&, const pybind11::sibling&, const pybind11::arg&, const pybind11::arg_v&, const pybind11::arg_v&, const pybind11::arg_v&, const pybind11::arg_v&, const char (&)[341])::<lambda(ngp::Testbed*, const filesystem::path&, tcnn::tvec<int, 3, 4>, ngp::BoundingBox, float, bool)>; Return = void; Args = {ngp::Testbed*, const filesystem::path&, tcnn::tvec<int, 3, 4>, ngp::BoundingBox, float, bool}; Extra = {pybind11::name, pybind11::is_method, pybind11::sibling, pybind11::arg, pybind11::arg_v, pybind11::arg_v, pybind11::arg_v, pybind11::arg_v, char [341]}]\u001b[m\u001b[K’\n",
            "\u001b[01m\u001b[K/content/instant-ngp/dependencies/pybind11/include/pybind11/pybind11.h:108:11:\u001b[m\u001b[K   required from ‘\u001b[01m\u001b[Kpybind11::cpp_function::cpp_function(Return (Class::*)(Arg ...), const Extra& ...) [with Return = void; Class = ngp::Testbed; Arg = {const filesystem::path&, tcnn::tvec<int, 3, 4>, ngp::BoundingBox, float, bool}; Extra = {pybind11::name, pybind11::is_method, pybind11::sibling, pybind11::arg, pybind11::arg_v, pybind11::arg_v, pybind11::arg_v, pybind11::arg_v, char [341]}]\u001b[m\u001b[K’\n",
            "\u001b[01m\u001b[K/content/instant-ngp/dependencies/pybind11/include/pybind11/pybind11.h:1558:14:\u001b[m\u001b[K   required from ‘\u001b[01m\u001b[Kpybind11::class_<type_, options>& pybind11::class_<type_, options>::def(const char*, Func&&, const Extra& ...) [with Func = void (ngp::Testbed::*)(const filesystem::path&, tcnn::tvec<int, 3, 4>, ngp::BoundingBox, float, bool); Extra = {pybind11::arg, pybind11::arg_v, pybind11::arg_v, pybind11::arg_v, pybind11::arg_v, char [341]}; type_ = ngp::Testbed; options = {}]\u001b[m\u001b[K’\n",
            "\u001b[01m\u001b[K/content/instant-ngp/src/python_api.cu:383:0:\u001b[m\u001b[K   required from here\n",
            "\u001b[01m\u001b[K/content/instant-ngp/dependencies/tiny-cuda-nn/include/tiny-cuda-nn/vec_pybind11.h:52:33:\u001b[m\u001b[K \u001b[01;35m\u001b[Kwarning: \u001b[m\u001b[K‘\u001b[01m\u001b[Kpybind11::array_t<T, ExtraFlags>::array_t(pybind11::handle, bool) [with T = int; int ExtraFlags = 16]\u001b[m\u001b[K’ is deprecated: Use array_t<T>::ensure() instead [\u001b[01;35m\u001b[K\u001b]8;;https://gcc.gnu.org/onlinedocs/gcc/Warning-Options.html#index-Wdeprecated-declarations\u0007-Wdeprecated-declarations\u001b]8;;\u0007\u001b[m\u001b[K]\n",
            "   52 |                 array_t<Scalar> \u001b[01;35m\u001b[Kbuf\u001b[m\u001b[K(src, true);\n",
            "      |                                 \u001b[01;35m\u001b[K^~~\u001b[m\u001b[K\n",
            "\u001b[01m\u001b[K/content/instant-ngp/dependencies/pybind11/include/pybind11/numpy.h:1037:1:\u001b[m\u001b[K \u001b[01;36m\u001b[Knote: \u001b[m\u001b[Kdeclared here\n",
            " 1037 | \u001b[01;36m\u001b[K    arr\u001b[m\u001b[Kay_t(handle h, bool is_borrowed) : array(raw_array_t(h.ptr()), stolen_t{}) {\n",
            "      | \u001b[01;36m\u001b[K^\u001b[m\u001b[K   \u001b[01;36m\u001b[K~~~\u001b[m\u001b[K\n",
            "\u001b[01m\u001b[K/content/instant-ngp/dependencies/tiny-cuda-nn/include/tiny-cuda-nn/vec_pybind11.h:53:29:\u001b[m\u001b[K \u001b[01;35m\u001b[Kwarning: \u001b[m\u001b[K‘\u001b[01m\u001b[Kbool pybind11::array::check() const\u001b[m\u001b[K’ is deprecated: Use py::isinstance<py::python_type>(obj) instead [\u001b[01;35m\u001b[K\u001b]8;;https://gcc.gnu.org/onlinedocs/gcc/Warning-Options.html#index-Wdeprecated-declarations\u0007-Wdeprecated-declarations\u001b]8;;\u0007\u001b[m\u001b[K]\n",
            "   53 |                 if \u001b[01;35m\u001b[K(!buf.check\u001b[m\u001b[K()) {\n",
            "      |                    \u001b[01;35m\u001b[K~~~~~~~~~^~\u001b[m\u001b[K\n",
            "\u001b[01m\u001b[K/content/instant-ngp/dependencies/pybind11/include/pybind11/numpy.h:682:385:\u001b[m\u001b[K \u001b[01;36m\u001b[Knote: \u001b[m\u001b[Kdeclared here\n",
            "  682 |     PYBIND11_OBJECT_CVT(array, buffer, detail::npy_api::get().PyArray_Check_, raw_array)\n",
            "      |                                                                                                                                                                                                                                                                                                                                                                                                 \u001b[01;36m\u001b[K^\u001b[m\u001b[K    \n",
            "/content/instant-ngp/dependencies/tiny-cuda-nn/include/tiny-cuda-nn/vec_pybind11.h: In instantiation of ‘\u001b[01m\u001b[Kbool pybind11::detail::type_caster<tcnn::tvec<T, N>, void>::load(pybind11::handle, bool) [with T = float; unsigned int N = 4]\u001b[m\u001b[K’:\n",
            "\u001b[01m\u001b[K/content/instant-ngp/dependencies/pybind11/include/pybind11/cast.h:1427:47:\u001b[m\u001b[K   required from ‘\u001b[01m\u001b[Kbool pybind11::detail::argument_loader<Args>::load_impl_sequence(pybind11::detail::function_call&, std::index_sequence<Is ...>) [with long unsigned int ...Is = {0, 1}; Args = {ngp::Testbed&, const tcnn::tvec<float, 4, 4>&}; std::index_sequence<Is ...> = std::integer_sequence<long unsigned int, 0, 1>]\u001b[m\u001b[K’\n",
            "\u001b[01m\u001b[K/content/instant-ngp/dependencies/pybind11/include/pybind11/cast.h:1401:64:\u001b[m\u001b[K   required from ‘\u001b[01m\u001b[Kbool pybind11::detail::argument_loader<Args>::load_args(pybind11::detail::function_call&) [with Args = {ngp::Testbed&, const tcnn::tvec<float, 4, 4>&}]\u001b[m\u001b[K’\n",
            "\u001b[01m\u001b[K/content/instant-ngp/dependencies/pybind11/include/pybind11/pybind11.h:228:30:\u001b[m\u001b[K   required from ‘\u001b[01m\u001b[Kvoid pybind11::cpp_function::initialize(Func&&, Return (*)(Args ...), const Extra& ...) [with Func = pybind11::class_<ngp::Testbed>::def_readwrite<ngp::Testbed, tcnn::tvec<float, 4, 4> >(const char*, tcnn::tvec<float, 4, 4> ngp::Testbed::*)::<lambda(pybind11::class_<ngp::Testbed>::type&, const tcnn::tvec<float, 4, 4>&)>; Return = void; Args = {ngp::Testbed&, const tcnn::tvec<float, 4, 4>&}; Extra = {pybind11::is_method}]\u001b[m\u001b[K’\n",
            "\u001b[01m\u001b[K/content/instant-ngp/dependencies/pybind11/include/pybind11/pybind11.h:100:11:\u001b[m\u001b[K   required from ‘\u001b[01m\u001b[Kpybind11::cpp_function::cpp_function(Func&&, const Extra& ...) [with Func = pybind11::class_<ngp::Testbed>::def_readwrite<ngp::Testbed, tcnn::tvec<float, 4, 4> >(const char*, tcnn::tvec<float, 4, 4> ngp::Testbed::*)::<lambda(pybind11::class_<ngp::Testbed>::type&, const tcnn::tvec<float, 4, 4>&)>; Extra = {pybind11::is_method}; <template-parameter-1-3> = void]\u001b[m\u001b[K’\n",
            "\u001b[01m\u001b[K/content/instant-ngp/dependencies/pybind11/include/pybind11/pybind11.h:1657:1:\u001b[m\u001b[K   required from ‘\u001b[01m\u001b[Kpybind11::class_<type_, options>& pybind11::class_<type_, options>::def_readwrite(const char*, D C::*, const Extra& ...) [with C = ngp::Testbed; D = tcnn::tvec<float, 4, 4>; Extra = {}; type_ = ngp::Testbed; options = {}]\u001b[m\u001b[K’\n",
            "\u001b[01m\u001b[K/content/instant-ngp/src/python_api.cu:383:0:\u001b[m\u001b[K   required from here\n",
            "\u001b[01m\u001b[K/content/instant-ngp/dependencies/tiny-cuda-nn/include/tiny-cuda-nn/vec_pybind11.h:52:33:\u001b[m\u001b[K \u001b[01;35m\u001b[Kwarning: \u001b[m\u001b[K‘\u001b[01m\u001b[Kpybind11::array_t<T, ExtraFlags>::array_t(pybind11::handle, bool) [with T = float; int ExtraFlags = 16]\u001b[m\u001b[K’ is deprecated: Use array_t<T>::ensure() instead [\u001b[01;35m\u001b[K\u001b]8;;https://gcc.gnu.org/onlinedocs/gcc/Warning-Options.html#index-Wdeprecated-declarations\u0007-Wdeprecated-declarations\u001b]8;;\u0007\u001b[m\u001b[K]\n",
            "   52 |                 array_t<Scalar> \u001b[01;35m\u001b[Kbuf\u001b[m\u001b[K(src, true);\n",
            "      |                                 \u001b[01;35m\u001b[K^~~\u001b[m\u001b[K\n",
            "\u001b[01m\u001b[K/content/instant-ngp/dependencies/pybind11/include/pybind11/numpy.h:1037:1:\u001b[m\u001b[K \u001b[01;36m\u001b[Knote: \u001b[m\u001b[Kdeclared here\n",
            " 1037 | \u001b[01;36m\u001b[K    arr\u001b[m\u001b[Kay_t(handle h, bool is_borrowed) : array(raw_array_t(h.ptr()), stolen_t{}) {\n",
            "      | \u001b[01;36m\u001b[K^\u001b[m\u001b[K   \u001b[01;36m\u001b[K~~~\u001b[m\u001b[K\n",
            "\u001b[01m\u001b[K/content/instant-ngp/dependencies/tiny-cuda-nn/include/tiny-cuda-nn/vec_pybind11.h:53:29:\u001b[m\u001b[K \u001b[01;35m\u001b[Kwarning: \u001b[m\u001b[K‘\u001b[01m\u001b[Kbool pybind11::array::check() const\u001b[m\u001b[K’ is deprecated: Use py::isinstance<py::python_type>(obj) instead [\u001b[01;35m\u001b[K\u001b]8;;https://gcc.gnu.org/onlinedocs/gcc/Warning-Options.html#index-Wdeprecated-declarations\u0007-Wdeprecated-declarations\u001b]8;;\u0007\u001b[m\u001b[K]\n",
            "   53 |                 if \u001b[01;35m\u001b[K(!buf.check\u001b[m\u001b[K()) {\n",
            "      |                    \u001b[01;35m\u001b[K~~~~~~~~~^~\u001b[m\u001b[K\n",
            "\u001b[01m\u001b[K/content/instant-ngp/dependencies/pybind11/include/pybind11/numpy.h:682:385:\u001b[m\u001b[K \u001b[01;36m\u001b[Knote: \u001b[m\u001b[Kdeclared here\n",
            "  682 |     PYBIND11_OBJECT_CVT(array, buffer, detail::npy_api::get().PyArray_Check_, raw_array)\n",
            "      |                                                                                                                                                                                                                                                                                                                                                                                                 \u001b[01;36m\u001b[K^\u001b[m\u001b[K    \n",
            "/content/instant-ngp/dependencies/tiny-cuda-nn/include/tiny-cuda-nn/vec_pybind11.h: In instantiation of ‘\u001b[01m\u001b[Kbool pybind11::detail::type_caster<tcnn::tmat<T, N, M>, void>::load(pybind11::handle, bool) [with T = float; unsigned int N = 3; unsigned int M = 3]\u001b[m\u001b[K’:\n",
            "\u001b[01m\u001b[K/content/instant-ngp/dependencies/pybind11/include/pybind11/cast.h:1427:47:\u001b[m\u001b[K   required from ‘\u001b[01m\u001b[Kbool pybind11::detail::argument_loader<Args>::load_impl_sequence(pybind11::detail::function_call&, std::index_sequence<Is ...>) [with long unsigned int ...Is = {0, 1}; Args = {ngp::Testbed&, const tcnn::tmat<float, 3, 3>&}; std::index_sequence<Is ...> = std::integer_sequence<long unsigned int, 0, 1>]\u001b[m\u001b[K’\n",
            "\u001b[01m\u001b[K/content/instant-ngp/dependencies/pybind11/include/pybind11/cast.h:1401:64:\u001b[m\u001b[K   required from ‘\u001b[01m\u001b[Kbool pybind11::detail::argument_loader<Args>::load_args(pybind11::detail::function_call&) [with Args = {ngp::Testbed&, const tcnn::tmat<float, 3, 3>&}]\u001b[m\u001b[K’\n",
            "\u001b[01m\u001b[K/content/instant-ngp/dependencies/pybind11/include/pybind11/pybind11.h:228:30:\u001b[m\u001b[K   required from ‘\u001b[01m\u001b[Kvoid pybind11::cpp_function::initialize(Func&&, Return (*)(Args ...), const Extra& ...) [with Func = pybind11::class_<ngp::Testbed>::def_readwrite<ngp::Testbed, tcnn::tmat<float, 3, 3> >(const char*, tcnn::tmat<float, 3, 3> ngp::Testbed::*)::<lambda(pybind11::class_<ngp::Testbed>::type&, const tcnn::tmat<float, 3, 3>&)>; Return = void; Args = {ngp::Testbed&, const tcnn::tmat<float, 3, 3>&}; Extra = {pybind11::is_method}]\u001b[m\u001b[K’\n",
            "\u001b[01m\u001b[K/content/instant-ngp/dependencies/pybind11/include/pybind11/pybind11.h:100:11:\u001b[m\u001b[K   required from ‘\u001b[01m\u001b[Kpybind11::cpp_function::cpp_function(Func&&, const Extra& ...) [with Func = pybind11::class_<ngp::Testbed>::def_readwrite<ngp::Testbed, tcnn::tmat<float, 3, 3> >(const char*, tcnn::tmat<float, 3, 3> ngp::Testbed::*)::<lambda(pybind11::class_<ngp::Testbed>::type&, const tcnn::tmat<float, 3, 3>&)>; Extra = {pybind11::is_method}; <template-parameter-1-3> = void]\u001b[m\u001b[K’\n",
            "\u001b[01m\u001b[K/content/instant-ngp/dependencies/pybind11/include/pybind11/pybind11.h:1657:1:\u001b[m\u001b[K   required from ‘\u001b[01m\u001b[Kpybind11::class_<type_, options>& pybind11::class_<type_, options>::def_readwrite(const char*, D C::*, const Extra& ...) [with C = ngp::Testbed; D = tcnn::tmat<float, 3, 3>; Extra = {}; type_ = ngp::Testbed; options = {}]\u001b[m\u001b[K’\n",
            "\u001b[01m\u001b[K/content/instant-ngp/src/python_api.cu:383:0:\u001b[m\u001b[K   required from here\n",
            "\u001b[01m\u001b[K/content/instant-ngp/dependencies/tiny-cuda-nn/include/tiny-cuda-nn/vec_pybind11.h:91:33:\u001b[m\u001b[K \u001b[01;35m\u001b[Kwarning: \u001b[m\u001b[K‘\u001b[01m\u001b[Kpybind11::array_t<T, ExtraFlags>::array_t(pybind11::handle, bool) [with T = float; int ExtraFlags = 16]\u001b[m\u001b[K’ is deprecated: Use array_t<T>::ensure() instead [\u001b[01;35m\u001b[K\u001b]8;;https://gcc.gnu.org/onlinedocs/gcc/Warning-Options.html#index-Wdeprecated-declarations\u0007-Wdeprecated-declarations\u001b]8;;\u0007\u001b[m\u001b[K]\n",
            "   91 |                 array_t<Scalar> \u001b[01;35m\u001b[Kbuf\u001b[m\u001b[K(src, true);\n",
            "      |                                 \u001b[01;35m\u001b[K^~~\u001b[m\u001b[K\n",
            "\u001b[01m\u001b[K/content/instant-ngp/dependencies/pybind11/include/pybind11/numpy.h:1037:1:\u001b[m\u001b[K \u001b[01;36m\u001b[Knote: \u001b[m\u001b[Kdeclared here\n",
            " 1037 | \u001b[01;36m\u001b[K    arr\u001b[m\u001b[Kay_t(handle h, bool is_borrowed) : array(raw_array_t(h.ptr()), stolen_t{}) {\n",
            "      | \u001b[01;36m\u001b[K^\u001b[m\u001b[K   \u001b[01;36m\u001b[K~~~\u001b[m\u001b[K\n",
            "\u001b[01m\u001b[K/content/instant-ngp/dependencies/tiny-cuda-nn/include/tiny-cuda-nn/vec_pybind11.h:92:29:\u001b[m\u001b[K \u001b[01;35m\u001b[Kwarning: \u001b[m\u001b[K‘\u001b[01m\u001b[Kbool pybind11::array::check() const\u001b[m\u001b[K’ is deprecated: Use py::isinstance<py::python_type>(obj) instead [\u001b[01;35m\u001b[K\u001b]8;;https://gcc.gnu.org/onlinedocs/gcc/Warning-Options.html#index-Wdeprecated-declarations\u0007-Wdeprecated-declarations\u001b]8;;\u0007\u001b[m\u001b[K]\n",
            "   92 |                 if \u001b[01;35m\u001b[K(!buf.check\u001b[m\u001b[K()) {\n",
            "      |                    \u001b[01;35m\u001b[K~~~~~~~~~^~\u001b[m\u001b[K\n",
            "\u001b[01m\u001b[K/content/instant-ngp/dependencies/pybind11/include/pybind11/numpy.h:682:385:\u001b[m\u001b[K \u001b[01;36m\u001b[Knote: \u001b[m\u001b[Kdeclared here\n",
            "  682 |     PYBIND11_OBJECT_CVT(array, buffer, detail::npy_api::get().PyArray_Check_, raw_array)\n",
            "      |                                                                                                                                                                                                                                                                                                                                                                                                 \u001b[01;36m\u001b[K^\u001b[m\u001b[K    \n",
            "/content/instant-ngp/dependencies/tiny-cuda-nn/include/tiny-cuda-nn/vec_pybind11.h: In instantiation of ‘\u001b[01m\u001b[Kbool pybind11::detail::type_caster<tcnn::tvec<T, N>, void>::load(pybind11::handle, bool) [with T = float; unsigned int N = 2]\u001b[m\u001b[K’:\n",
            "\u001b[01m\u001b[K/content/instant-ngp/dependencies/pybind11/include/pybind11/cast.h:1427:47:\u001b[m\u001b[K   required from ‘\u001b[01m\u001b[Kbool pybind11::detail::argument_loader<Args>::load_impl_sequence(pybind11::detail::function_call&, std::index_sequence<Is ...>) [with long unsigned int ...Is = {0, 1}; Args = {ngp::Testbed*, const tcnn::tvec<float, 2, 4>&}; std::index_sequence<Is ...> = std::integer_sequence<long unsigned int, 0, 1>]\u001b[m\u001b[K’\n",
            "\u001b[01m\u001b[K/content/instant-ngp/dependencies/pybind11/include/pybind11/cast.h:1401:64:\u001b[m\u001b[K   required from ‘\u001b[01m\u001b[Kbool pybind11::detail::argument_loader<Args>::load_args(pybind11::detail::function_call&) [with Args = {ngp::Testbed*, const tcnn::tvec<float, 2, 4>&}]\u001b[m\u001b[K’\n",
            "\u001b[01m\u001b[K/content/instant-ngp/dependencies/pybind11/include/pybind11/pybind11.h:228:30:\u001b[m\u001b[K   required from ‘\u001b[01m\u001b[Kvoid pybind11::cpp_function::initialize(Func&&, Return (*)(Args ...), const Extra& ...) [with Func = pybind11::cpp_function::cpp_function<void, ngp::Testbed, const tcnn::tvec<float, 2, 4>&>(void (ngp::Testbed::*)(const tcnn::tvec<float, 2, 4>&))::<lambda(ngp::Testbed*, const tcnn::tvec<float, 2, 4>&)>; Return = void; Args = {ngp::Testbed*, const tcnn::tvec<float, 2, 4>&}; Extra = {}]\u001b[m\u001b[K’\n",
            "\u001b[01m\u001b[K/content/instant-ngp/dependencies/pybind11/include/pybind11/pybind11.h:108:11:\u001b[m\u001b[K   required from ‘\u001b[01m\u001b[Kpybind11::cpp_function::cpp_function(Return (Class::*)(Arg ...), const Extra& ...) [with Return = void; Class = ngp::Testbed; Arg = {const tcnn::tvec<float, 2, 4>&}; Extra = {}]\u001b[m\u001b[K’\n",
            "\u001b[01m\u001b[K/content/instant-ngp/dependencies/pybind11/include/pybind11/pybind11.h:1722:34:\u001b[m\u001b[K   required from ‘\u001b[01m\u001b[Kpybind11::class_<type_, options>& pybind11::class_<type_, options>::def_property(const char*, const Getter&, const Setter&, const Extra& ...) [with Getter = tcnn::tvec<float, 2, 4> (ngp::Testbed::*)() const; Setter = void (ngp::Testbed::*)(const tcnn::tvec<float, 2, 4>&); Extra = {}; type_ = ngp::Testbed; options = {}]\u001b[m\u001b[K’\n",
            "\u001b[01m\u001b[K/content/instant-ngp/src/python_api.cu:383:0:\u001b[m\u001b[K   required from here\n",
            "\u001b[01m\u001b[K/content/instant-ngp/dependencies/tiny-cuda-nn/include/tiny-cuda-nn/vec_pybind11.h:52:33:\u001b[m\u001b[K \u001b[01;35m\u001b[Kwarning: \u001b[m\u001b[K‘\u001b[01m\u001b[Kpybind11::array_t<T, ExtraFlags>::array_t(pybind11::handle, bool) [with T = float; int ExtraFlags = 16]\u001b[m\u001b[K’ is deprecated: Use array_t<T>::ensure() instead [\u001b[01;35m\u001b[K\u001b]8;;https://gcc.gnu.org/onlinedocs/gcc/Warning-Options.html#index-Wdeprecated-declarations\u0007-Wdeprecated-declarations\u001b]8;;\u0007\u001b[m\u001b[K]\n",
            "   52 |                 array_t<Scalar> \u001b[01;35m\u001b[Kbuf\u001b[m\u001b[K(src, true);\n",
            "      |                                 \u001b[01;35m\u001b[K^~~\u001b[m\u001b[K\n",
            "\u001b[01m\u001b[K/content/instant-ngp/dependencies/pybind11/include/pybind11/numpy.h:1037:1:\u001b[m\u001b[K \u001b[01;36m\u001b[Knote: \u001b[m\u001b[Kdeclared here\n",
            " 1037 | \u001b[01;36m\u001b[K    arr\u001b[m\u001b[Kay_t(handle h, bool is_borrowed) : array(raw_array_t(h.ptr()), stolen_t{}) {\n",
            "      | \u001b[01;36m\u001b[K^\u001b[m\u001b[K   \u001b[01;36m\u001b[K~~~\u001b[m\u001b[K\n",
            "\u001b[01m\u001b[K/content/instant-ngp/dependencies/tiny-cuda-nn/include/tiny-cuda-nn/vec_pybind11.h:53:29:\u001b[m\u001b[K \u001b[01;35m\u001b[Kwarning: \u001b[m\u001b[K‘\u001b[01m\u001b[Kbool pybind11::array::check() const\u001b[m\u001b[K’ is deprecated: Use py::isinstance<py::python_type>(obj) instead [\u001b[01;35m\u001b[K\u001b]8;;https://gcc.gnu.org/onlinedocs/gcc/Warning-Options.html#index-Wdeprecated-declarations\u0007-Wdeprecated-declarations\u001b]8;;\u0007\u001b[m\u001b[K]\n",
            "   53 |                 if \u001b[01;35m\u001b[K(!buf.check\u001b[m\u001b[K()) {\n",
            "      |                    \u001b[01;35m\u001b[K~~~~~~~~~^~\u001b[m\u001b[K\n",
            "\u001b[01m\u001b[K/content/instant-ngp/dependencies/pybind11/include/pybind11/numpy.h:682:385:\u001b[m\u001b[K \u001b[01;36m\u001b[Knote: \u001b[m\u001b[Kdeclared here\n",
            "  682 |     PYBIND11_OBJECT_CVT(array, buffer, detail::npy_api::get().PyArray_Check_, raw_array)\n",
            "      |                                                                                                                                                                                                                                                                                                                                                                                                 \u001b[01;36m\u001b[K^\u001b[m\u001b[K    \n",
            "/content/instant-ngp/dependencies/tiny-cuda-nn/include/tiny-cuda-nn/vec_pybind11.h: In instantiation of ‘\u001b[01m\u001b[Kbool pybind11::detail::type_caster<tcnn::tmat<T, N, M>, void>::load(pybind11::handle, bool) [with T = float; unsigned int N = 4; unsigned int M = 3]\u001b[m\u001b[K’:\n",
            "\u001b[01m\u001b[K/content/instant-ngp/dependencies/pybind11/include/pybind11/cast.h:1427:47:\u001b[m\u001b[K   required from ‘\u001b[01m\u001b[Kbool pybind11::detail::argument_loader<Args>::load_impl_sequence(pybind11::detail::function_call&, std::index_sequence<Is ...>) [with long unsigned int ...Is = {0, 1}; Args = {ngp::Testbed*, const tcnn::tmat<float, 4, 3>&}; std::index_sequence<Is ...> = std::integer_sequence<long unsigned int, 0, 1>]\u001b[m\u001b[K’\n",
            "\u001b[01m\u001b[K/content/instant-ngp/dependencies/pybind11/include/pybind11/cast.h:1401:64:\u001b[m\u001b[K   required from ‘\u001b[01m\u001b[Kbool pybind11::detail::argument_loader<Args>::load_args(pybind11::detail::function_call&) [with Args = {ngp::Testbed*, const tcnn::tmat<float, 4, 3>&}]\u001b[m\u001b[K’\n",
            "\u001b[01m\u001b[K/content/instant-ngp/dependencies/pybind11/include/pybind11/pybind11.h:228:30:\u001b[m\u001b[K   required from ‘\u001b[01m\u001b[Kvoid pybind11::cpp_function::initialize(Func&&, Return (*)(Args ...), const Extra& ...) [with Func = pybind11::cpp_function::cpp_function<void, ngp::Testbed, const tcnn::tmat<float, 4, 3>&, pybind11::name, pybind11::is_method, pybind11::sibling>(void (ngp::Testbed::*)(const tcnn::tmat<float, 4, 3>&), const pybind11::name&, const pybind11::is_method&, const pybind11::sibling&)::<lambda(ngp::Testbed*, const tcnn::tmat<float, 4, 3>&)>; Return = void; Args = {ngp::Testbed*, const tcnn::tmat<float, 4, 3>&}; Extra = {pybind11::name, pybind11::is_method, pybind11::sibling}]\u001b[m\u001b[K’\n",
            "\u001b[01m\u001b[K/content/instant-ngp/dependencies/pybind11/include/pybind11/pybind11.h:108:11:\u001b[m\u001b[K   required from ‘\u001b[01m\u001b[Kpybind11::cpp_function::cpp_function(Return (Class::*)(Arg ...), const Extra& ...) [with Return = void; Class = ngp::Testbed; Arg = {const tcnn::tmat<float, 4, 3>&}; Extra = {pybind11::name, pybind11::is_method, pybind11::sibling}]\u001b[m\u001b[K’\n",
            "\u001b[01m\u001b[K/content/instant-ngp/dependencies/pybind11/include/pybind11/pybind11.h:1558:14:\u001b[m\u001b[K   required from ‘\u001b[01m\u001b[Kpybind11::class_<type_, options>& pybind11::class_<type_, options>::def(const char*, Func&&, const Extra& ...) [with Func = void (ngp::Testbed::*)(const tcnn::tmat<float, 4, 3>&); Extra = {}; type_ = ngp::Testbed; options = {}]\u001b[m\u001b[K’\n",
            "\u001b[01m\u001b[K/content/instant-ngp/src/python_api.cu:383:0:\u001b[m\u001b[K   required from here\n",
            "\u001b[01m\u001b[K/content/instant-ngp/dependencies/tiny-cuda-nn/include/tiny-cuda-nn/vec_pybind11.h:91:33:\u001b[m\u001b[K \u001b[01;35m\u001b[Kwarning: \u001b[m\u001b[K‘\u001b[01m\u001b[Kpybind11::array_t<T, ExtraFlags>::array_t(pybind11::handle, bool) [with T = float; int ExtraFlags = 16]\u001b[m\u001b[K’ is deprecated: Use array_t<T>::ensure() instead [\u001b[01;35m\u001b[K\u001b]8;;https://gcc.gnu.org/onlinedocs/gcc/Warning-Options.html#index-Wdeprecated-declarations\u0007-Wdeprecated-declarations\u001b]8;;\u0007\u001b[m\u001b[K]\n",
            "   91 |                 array_t<Scalar> \u001b[01;35m\u001b[Kbuf\u001b[m\u001b[K(src, true);\n",
            "      |                                 \u001b[01;35m\u001b[K^~~\u001b[m\u001b[K\n",
            "\u001b[01m\u001b[K/content/instant-ngp/dependencies/pybind11/include/pybind11/numpy.h:1037:1:\u001b[m\u001b[K \u001b[01;36m\u001b[Knote: \u001b[m\u001b[Kdeclared here\n",
            " 1037 | \u001b[01;36m\u001b[K    arr\u001b[m\u001b[Kay_t(handle h, bool is_borrowed) : array(raw_array_t(h.ptr()), stolen_t{}) {\n",
            "      | \u001b[01;36m\u001b[K^\u001b[m\u001b[K   \u001b[01;36m\u001b[K~~~\u001b[m\u001b[K\n",
            "\u001b[01m\u001b[K/content/instant-ngp/dependencies/tiny-cuda-nn/include/tiny-cuda-nn/vec_pybind11.h:92:29:\u001b[m\u001b[K \u001b[01;35m\u001b[Kwarning: \u001b[m\u001b[K‘\u001b[01m\u001b[Kbool pybind11::array::check() const\u001b[m\u001b[K’ is deprecated: Use py::isinstance<py::python_type>(obj) instead [\u001b[01;35m\u001b[K\u001b]8;;https://gcc.gnu.org/onlinedocs/gcc/Warning-Options.html#index-Wdeprecated-declarations\u0007-Wdeprecated-declarations\u001b]8;;\u0007\u001b[m\u001b[K]\n",
            "   92 |                 if \u001b[01;35m\u001b[K(!buf.check\u001b[m\u001b[K()) {\n",
            "      |                    \u001b[01;35m\u001b[K~~~~~~~~~^~\u001b[m\u001b[K\n",
            "\u001b[01m\u001b[K/content/instant-ngp/dependencies/pybind11/include/pybind11/numpy.h:682:385:\u001b[m\u001b[K \u001b[01;36m\u001b[Knote: \u001b[m\u001b[Kdeclared here\n",
            "  682 |     PYBIND11_OBJECT_CVT(array, buffer, detail::npy_api::get().PyArray_Check_, raw_array)\n",
            "      |                                                                                                                                                                                                                                                                                                                                                                                                 \u001b[01;36m\u001b[K^\u001b[m\u001b[K    \n",
            "/content/instant-ngp/dependencies/tiny-cuda-nn/include/tiny-cuda-nn/vec_pybind11.h: In instantiation of ‘\u001b[01m\u001b[Kbool pybind11::detail::type_caster<tcnn::tvec<T, N>, void>::load(pybind11::handle, bool) [with T = int; unsigned int N = 2]\u001b[m\u001b[K’:\n",
            "\u001b[01m\u001b[K/content/instant-ngp/dependencies/pybind11/include/pybind11/cast.h:1427:47:\u001b[m\u001b[K   required from ‘\u001b[01m\u001b[Kbool pybind11::detail::argument_loader<Args>::load_impl_sequence(pybind11::detail::function_call&, std::index_sequence<Is ...>) [with long unsigned int ...Is = {0, 1}; Args = {ngp::TrainingImageMetadata&, const tcnn::tvec<int, 2, 4>&}; std::index_sequence<Is ...> = std::integer_sequence<long unsigned int, 0, 1>]\u001b[m\u001b[K’\n",
            "\u001b[01m\u001b[K/content/instant-ngp/dependencies/pybind11/include/pybind11/cast.h:1401:64:\u001b[m\u001b[K   required from ‘\u001b[01m\u001b[Kbool pybind11::detail::argument_loader<Args>::load_args(pybind11::detail::function_call&) [with Args = {ngp::TrainingImageMetadata&, const tcnn::tvec<int, 2, 4>&}]\u001b[m\u001b[K’\n",
            "\u001b[01m\u001b[K/content/instant-ngp/dependencies/pybind11/include/pybind11/pybind11.h:228:30:\u001b[m\u001b[K   required from ‘\u001b[01m\u001b[Kvoid pybind11::cpp_function::initialize(Func&&, Return (*)(Args ...), const Extra& ...) [with Func = pybind11::class_<ngp::TrainingImageMetadata>::def_readwrite<ngp::TrainingImageMetadata, tcnn::tvec<int, 2, 4> >(const char*, tcnn::tvec<int, 2, 4> ngp::TrainingImageMetadata::*)::<lambda(pybind11::class_<ngp::TrainingImageMetadata>::type&, const tcnn::tvec<int, 2, 4>&)>; Return = void; Args = {ngp::TrainingImageMetadata&, const tcnn::tvec<int, 2, 4>&}; Extra = {pybind11::is_method}]\u001b[m\u001b[K’\n",
            "\u001b[01m\u001b[K/content/instant-ngp/dependencies/pybind11/include/pybind11/pybind11.h:100:11:\u001b[m\u001b[K   required from ‘\u001b[01m\u001b[Kpybind11::cpp_function::cpp_function(Func&&, const Extra& ...) [with Func = pybind11::class_<ngp::TrainingImageMetadata>::def_readwrite<ngp::TrainingImageMetadata, tcnn::tvec<int, 2, 4> >(const char*, tcnn::tvec<int, 2, 4> ngp::TrainingImageMetadata::*)::<lambda(pybind11::class_<ngp::TrainingImageMetadata>::type&, const tcnn::tvec<int, 2, 4>&)>; Extra = {pybind11::is_method}; <template-parameter-1-3> = void]\u001b[m\u001b[K’\n",
            "\u001b[01m\u001b[K/content/instant-ngp/dependencies/pybind11/include/pybind11/pybind11.h:1657:1:\u001b[m\u001b[K   required from ‘\u001b[01m\u001b[Kpybind11::class_<type_, options>& pybind11::class_<type_, options>::def_readwrite(const char*, D C::*, const Extra& ...) [with C = ngp::TrainingImageMetadata; D = tcnn::tvec<int, 2, 4>; Extra = {}; type_ = ngp::TrainingImageMetadata; options = {}]\u001b[m\u001b[K’\n",
            "\u001b[01m\u001b[K/content/instant-ngp/src/python_api.cu:616:140:\u001b[m\u001b[K   required from here\n",
            "\u001b[01m\u001b[K/content/instant-ngp/dependencies/tiny-cuda-nn/include/tiny-cuda-nn/vec_pybind11.h:52:33:\u001b[m\u001b[K \u001b[01;35m\u001b[Kwarning: \u001b[m\u001b[K‘\u001b[01m\u001b[Kpybind11::array_t<T, ExtraFlags>::array_t(pybind11::handle, bool) [with T = int; int ExtraFlags = 16]\u001b[m\u001b[K’ is deprecated: Use array_t<T>::ensure() instead [\u001b[01;35m\u001b[K\u001b]8;;https://gcc.gnu.org/onlinedocs/gcc/Warning-Options.html#index-Wdeprecated-declarations\u0007-Wdeprecated-declarations\u001b]8;;\u0007\u001b[m\u001b[K]\n",
            "   52 |                 array_t<Scalar> \u001b[01;35m\u001b[Kbuf\u001b[m\u001b[K(src, true);\n",
            "      |                                 \u001b[01;35m\u001b[K^~~\u001b[m\u001b[K\n",
            "\u001b[01m\u001b[K/content/instant-ngp/dependencies/pybind11/include/pybind11/numpy.h:1037:1:\u001b[m\u001b[K \u001b[01;36m\u001b[Knote: \u001b[m\u001b[Kdeclared here\n",
            " 1037 | \u001b[01;36m\u001b[K    arr\u001b[m\u001b[Kay_t(handle h, bool is_borrowed) : array(raw_array_t(h.ptr()), stolen_t{}) {\n",
            "      | \u001b[01;36m\u001b[K^\u001b[m\u001b[K   \u001b[01;36m\u001b[K~~~\u001b[m\u001b[K\n",
            "\u001b[01m\u001b[K/content/instant-ngp/dependencies/tiny-cuda-nn/include/tiny-cuda-nn/vec_pybind11.h:53:29:\u001b[m\u001b[K \u001b[01;35m\u001b[Kwarning: \u001b[m\u001b[K‘\u001b[01m\u001b[Kbool pybind11::array::check() const\u001b[m\u001b[K’ is deprecated: Use py::isinstance<py::python_type>(obj) instead [\u001b[01;35m\u001b[K\u001b]8;;https://gcc.gnu.org/onlinedocs/gcc/Warning-Options.html#index-Wdeprecated-declarations\u0007-Wdeprecated-declarations\u001b]8;;\u0007\u001b[m\u001b[K]\n",
            "   53 |                 if \u001b[01;35m\u001b[K(!buf.check\u001b[m\u001b[K()) {\n",
            "      |                    \u001b[01;35m\u001b[K~~~~~~~~~^~\u001b[m\u001b[K\n",
            "\u001b[01m\u001b[K/content/instant-ngp/dependencies/pybind11/include/pybind11/numpy.h:682:385:\u001b[m\u001b[K \u001b[01;36m\u001b[Knote: \u001b[m\u001b[Kdeclared here\n",
            "  682 |     PYBIND11_OBJECT_CVT(array, buffer, detail::npy_api::get().PyArray_Check_, raw_array)\n",
            "      |                                                                                                                                                                                                                                                                                                                                                                                                 \u001b[01;36m\u001b[K^\u001b[m\u001b[K    \n",
            "[100%] \u001b[32m\u001b[1mLinking CXX shared library pyngp.cpython-310-x86_64-linux-gnu.so\u001b[0m\n",
            "[100%] Built target pyngp\n"
          ]
        }
      ],
      "source": [
        "!cmake --build build --config RelWithDebInfo -j `nproc`"
      ]
    },
    {
      "cell_type": "code",
      "execution_count": 22,
      "metadata": {
        "colab": {
          "base_uri": "https://localhost:8080/"
        },
        "id": "TRfrshaCdpY8",
        "outputId": "5eaf5e65-ef1d-4734-82a6-1f956460cd57"
      },
      "outputs": [
        {
          "output_type": "stream",
          "name": "stdout",
          "text": [
            "Requirement already satisfied: commentjson in /usr/local/lib/python3.10/dist-packages (from -r requirements.txt (line 1)) (0.9.0)\n",
            "Requirement already satisfied: imageio in /usr/local/lib/python3.10/dist-packages (from -r requirements.txt (line 2)) (2.31.6)\n",
            "Requirement already satisfied: numpy in /usr/local/lib/python3.10/dist-packages (from -r requirements.txt (line 3)) (1.23.5)\n",
            "Requirement already satisfied: opencv-python-headless in /usr/local/lib/python3.10/dist-packages (from -r requirements.txt (line 4)) (4.8.1.78)\n",
            "Requirement already satisfied: pybind11 in /usr/local/lib/python3.10/dist-packages (from -r requirements.txt (line 5)) (2.11.1)\n",
            "Requirement already satisfied: pyquaternion in /usr/local/lib/python3.10/dist-packages (from -r requirements.txt (line 6)) (0.9.9)\n",
            "Requirement already satisfied: scipy in /usr/local/lib/python3.10/dist-packages (from -r requirements.txt (line 7)) (1.11.3)\n",
            "Requirement already satisfied: tqdm in /usr/local/lib/python3.10/dist-packages (from -r requirements.txt (line 8)) (4.66.1)\n",
            "Requirement already satisfied: lark-parser<0.8.0,>=0.7.1 in /usr/local/lib/python3.10/dist-packages (from commentjson->-r requirements.txt (line 1)) (0.7.8)\n",
            "Requirement already satisfied: pillow<10.1.0,>=8.3.2 in /usr/local/lib/python3.10/dist-packages (from imageio->-r requirements.txt (line 2)) (9.4.0)\n"
          ]
        }
      ],
      "source": [
        "!pip3 install -r requirements.txt"
      ]
    },
    {
      "cell_type": "markdown",
      "metadata": {
        "id": "cHLYSiD05EnL"
      },
      "source": [
        "## 6. [LOCAL MACHINE] Run COLMAP on your scene\n",
        "COLMAP doesn't work on machines without a GUI.\n",
        "\n",
        "Go to your local machine and follow the [instructions](https://github.com/NVlabs/instant-ngp/blob/master/docs/nerf_dataset_tips.md#preparing-new-nerf-datasets) to run COLMAP from a video or a set of images to generate camera positions from your scene.\n",
        "\n",
        "After this, you should have an images folder, with the images of your scene, and a `transforms.json` file with the camera information extracted by COLMAP."
      ]
    },
    {
      "cell_type": "markdown",
      "metadata": {
        "id": "ZQP4PAyru3KA"
      },
      "source": [
        "## 7. Upload your scene"
      ]
    },
    {
      "cell_type": "markdown",
      "metadata": {
        "id": "h3Tl_nNpzfPR"
      },
      "source": [
        "Mount your google drive"
      ]
    },
    {
      "cell_type": "code",
      "execution_count": 9,
      "metadata": {
        "id": "a-CfnpVUze1G",
        "outputId": "11ac4c3c-c38b-4788-9c73-130bd2afd46a",
        "colab": {
          "base_uri": "https://localhost:8080/"
        }
      },
      "outputs": [
        {
          "output_type": "stream",
          "name": "stdout",
          "text": [
            "Mounted at /content/drive\n"
          ]
        }
      ],
      "source": [
        "from google.colab import drive\n",
        "drive.mount('/content/drive')"
      ]
    },
    {
      "cell_type": "markdown",
      "metadata": {
        "id": "WOx86Jz5xOQP"
      },
      "source": [
        "Then upload the `images` folder and the output of COLMAP, `transforms.json`, to your drive. The structure should be similar to the following:\n",
        "```\n",
        "/content/drive/MyDrive/nerf_scenes/\n",
        "└── fox\n",
        "    ├── images\n",
        "    │   ├── 00001.jpg\n",
        "    │   └── 00002.jpg\n",
        "    └── transforms.json\n",
        "```\n",
        "\n"
      ]
    },
    {
      "cell_type": "markdown",
      "metadata": {
        "id": "iNhWLCgH20-g"
      },
      "source": [
        "Enter the path to your scene"
      ]
    },
    {
      "cell_type": "code",
      "execution_count": 23,
      "metadata": {
        "id": "ayZ2gWkTz3sU"
      },
      "outputs": [],
      "source": [
        "import os\n",
        "scene_path = \"/content/instant-ngp/data/nerf/fox\" #@param {type:\"string\"}\n",
        "if not os.path.isdir(scene_path):\n",
        "  raise NotADirectoryError(scene_path)"
      ]
    },
    {
      "cell_type": "markdown",
      "metadata": {
        "id": "YPr9nJ-w2_0J"
      },
      "source": [
        "## 8. Train a model on your scene!"
      ]
    },
    {
      "cell_type": "code",
      "execution_count": 24,
      "metadata": {
        "colab": {
          "base_uri": "https://localhost:8080/"
        },
        "id": "aijHZB0zJwWB",
        "outputId": "0d87bf9c-cf6b-4283-d4f5-2c532b787536"
      },
      "outputs": [
        {
          "output_type": "stream",
          "name": "stdout",
          "text": [
            "Warning: the '--mode' argument is no longer in use. It has no effect. The mode is automatically chosen based on the scene.\n",
            "\u001b[0m11:17:53 \u001b[0;32mSUCCESS  \u001b[0mInitialized CUDA 11.8. Active GPU is #0: Tesla T4 [75]\u001b[K\u001b[0m\n",
            "11:17:53 \u001b[0;36mINFO     \u001b[0mLoading NeRF dataset from\u001b[K\u001b[0m\n",
            "11:17:53 \u001b[0;36mINFO     \u001b[0m  /content/instant-ngp/data/nerf/fox/transforms.json\u001b[K\u001b[0m\n",
            "11:17:53 \u001b[0;34mPROGRESS \u001b[0m[]   0% ( 0/50)  0s/inf\u001b[K\u001b[0m\u001b[0G11:17:53 \u001b[0;34mPROGRESS \u001b[0m[]   2% ( 1/50) 0s/1s\u001b[K\u001b[0m\u001b[0G11:17:53 \u001b[0;34mPROGRESS \u001b[0m[]   4% ( 2/50) 0s/0s\u001b[K\u001b[0m\u001b[0G11:17:53 \u001b[0;34mPROGRESS \u001b[0m[]   6% ( 3/50) 0s/0s\u001b[K\u001b[0m\u001b[0G11:17:53 \u001b[0;34mPROGRESS \u001b[0m[]   8% ( 4/50) 0s/0s\u001b[K\u001b[0m\u001b[0G11:17:53 \u001b[0;34mPROGRESS \u001b[0m[]  10% ( 5/50) 0s/0s\u001b[K\u001b[0m\u001b[0G11:17:53 \u001b[0;34mPROGRESS \u001b[0m[]  12% ( 6/50) 0s/0s\u001b[K\u001b[0m\u001b[0G11:17:53 \u001b[0;34mPROGRESS \u001b[0m[]  14% ( 7/50) 0s/0s\u001b[K\u001b[0m\u001b[0G11:17:53 \u001b[0;34mPROGRESS \u001b[0m[]  16% ( 8/50) 0s/0s\u001b[K\u001b[0m\u001b[0G11:17:53 \u001b[0;34mPROGRESS \u001b[0m[]  18% ( 9/50) 0s/0s\u001b[K\u001b[0m\u001b[0G11:17:53 \u001b[0;34mPROGRESS \u001b[0m[]  20% (10/50) 0s/0s\u001b[K\u001b[0m\u001b[0G11:17:53 \u001b[0;34mPROGRESS \u001b[0m[]  22% (11/50) 0s/0s\u001b[K\u001b[0m\u001b[0G11:17:53 \u001b[0;34mPROGRESS \u001b[0m[]  24% (12/50) 0s/0s\u001b[K\u001b[0m\u001b[0G11:17:53 \u001b[0;34mPROGRESS \u001b[0m[]  26% (13/50) 0s/0s\u001b[K\u001b[0m\u001b[0G11:17:54 \u001b[0;34mPROGRESS \u001b[0m[]  28% (14/50) 0s/0s\u001b[K\u001b[0m\u001b[0G11:17:54 \u001b[0;34mPROGRESS \u001b[0m[]  30% (15/50) 0s/0s\u001b[K\u001b[0m\u001b[0G11:17:54 \u001b[0;34mPROGRESS \u001b[0m[]  32% (16/50) 0s/0s\u001b[K\u001b[0m\u001b[0G11:17:54 \u001b[0;34mPROGRESS \u001b[0m[]  34% (17/50) 0s/0s\u001b[K\u001b[0m\u001b[0G11:17:54 \u001b[0;34mPROGRESS \u001b[0m[]  36% (18/50) 0s/0s\u001b[K\u001b[0m\u001b[0G11:17:54 \u001b[0;34mPROGRESS \u001b[0m[]  38% (19/50) 0s/0s\u001b[K\u001b[0m\u001b[0G11:17:54 \u001b[0;34mPROGRESS \u001b[0m[]  40% (20/50) 0s/0s\u001b[K\u001b[0m\u001b[0G11:17:54 \u001b[0;34mPROGRESS \u001b[0m[]  42% (21/50) 0s/0s\u001b[K\u001b[0m\u001b[0G11:17:54 \u001b[0;34mPROGRESS \u001b[0m[]  44% (22/50) 0s/0s\u001b[K\u001b[0m\u001b[0G11:17:54 \u001b[0;34mPROGRESS \u001b[0m[]  46% (23/50) 0s/0s\u001b[K\u001b[0m\u001b[0G11:17:54 \u001b[0;34mPROGRESS \u001b[0m[]  48% (24/50) 0s/0s\u001b[K\u001b[0m\u001b[0G11:17:54 \u001b[0;34mPROGRESS \u001b[0m[]  50% (25/50) 0s/0s\u001b[K\u001b[0m\u001b[0G11:17:54 \u001b[0;34mPROGRESS \u001b[0m[]  52% (26/50) 0s/0s\u001b[K\u001b[0m\u001b[0G11:17:54 \u001b[0;34mPROGRESS \u001b[0m[]  54% (27/50) 0s/0s\u001b[K\u001b[0m\u001b[0G11:17:54 \u001b[0;34mPROGRESS \u001b[0m[]  56% (28/50) 0s/0s\u001b[K\u001b[0m\u001b[0G11:17:54 \u001b[0;34mPROGRESS \u001b[0m[]  58% (29/50) 0s/0s\u001b[K\u001b[0m\u001b[0G11:17:54 \u001b[0;34mPROGRESS \u001b[0m[]  60% (30/50) 0s/0s\u001b[K\u001b[0m\u001b[0G11:17:54 \u001b[0;34mPROGRESS \u001b[0m[]  62% (31/50) 0s/0s\u001b[K\u001b[0m\u001b[0G11:17:54 \u001b[0;34mPROGRESS \u001b[0m[]  64% (32/50) 0s/0s\u001b[K\u001b[0m\u001b[0G11:17:54 \u001b[0;34mPROGRESS \u001b[0m[]  66% (33/50) 0s/0s\u001b[K\u001b[0m\u001b[0G11:17:54 \u001b[0;34mPROGRESS \u001b[0m[]  68% (34/50) 0s/0s\u001b[K\u001b[0m\u001b[0G11:17:54 \u001b[0;34mPROGRESS \u001b[0m[]  70% (35/50) 0s/0s\u001b[K\u001b[0m\u001b[0G11:17:54 \u001b[0;34mPROGRESS \u001b[0m[]  72% (36/50) 0s/0s\u001b[K\u001b[0m\u001b[0G11:17:54 \u001b[0;34mPROGRESS \u001b[0m[]  74% (37/50) 0s/0s\u001b[K\u001b[0m\u001b[0G11:17:54 \u001b[0;34mPROGRESS \u001b[0m[]  76% (38/50) 0s/0s\u001b[K\u001b[0m\u001b[0G11:17:54 \u001b[0;34mPROGRESS \u001b[0m[]  78% (39/50) 0s/0s\u001b[K\u001b[0m\u001b[0G11:17:54 \u001b[0;34mPROGRESS \u001b[0m[]  80% (40/50) 0s/0s\u001b[K\u001b[0m\u001b[0G11:17:54 \u001b[0;34mPROGRESS \u001b[0m[]  82% (41/50) 0s/0s\u001b[K\u001b[0m\u001b[0G11:17:54 \u001b[0;34mPROGRESS \u001b[0m[]  84% (42/50) 0s/0s\u001b[K\u001b[0m\u001b[0G11:17:54 \u001b[0;34mPROGRESS \u001b[0m[]  86% (43/50) 0s/0s\u001b[K\u001b[0m\u001b[0G11:17:54 \u001b[0;34mPROGRESS \u001b[0m[]  88% (44/50) 0s/0s\u001b[K\u001b[0m\u001b[0G11:17:54 \u001b[0;34mPROGRESS \u001b[0m[]  90% (45/50) 0s/0s\u001b[K\u001b[0m\u001b[0G11:17:54 \u001b[0;34mPROGRESS \u001b[0m[]  92% (46/50) 0s/0s\u001b[K\u001b[0m\u001b[0G11:17:54 \u001b[0;34mPROGRESS \u001b[0m[]  94% (47/50) 0s/0s\u001b[K\u001b[0m\u001b[0G11:17:54 \u001b[0;34mPROGRESS \u001b[0m[]  96% (48/50) 0s/0s\u001b[K\u001b[0m\u001b[0G11:17:54 \u001b[0;34mPROGRESS \u001b[0m[]  98% (49/50) 0s/0s\u001b[K\u001b[0m\u001b[0G11:17:54 \u001b[0;34mPROGRESS \u001b[0m[] 100% (50/50) 0s/0s\u001b[K\u001b[0m\u001b[0G11:17:54 \u001b[0;32mSUCCESS  \u001b[0mLoaded 50 images after 0s\u001b[K\u001b[0m\n",
            "11:17:54 \u001b[0;36mINFO     \u001b[0m  cam_aabb=[min=[1.0229,-1.33309,-0.378748], max=[2.46175,1.00721,1.41295]]\u001b[K\u001b[0m\n",
            "Training:   0% 0/1 [00:00<?, ?steps/s]11:17:54 \u001b[0;36mINFO     \u001b[0mLoading network config from: /content/instant-ngp/configs/nerf/base.json\u001b[K\u001b[0m\n",
            "11:17:54 \u001b[0;36mINFO     \u001b[0mGridEncoding:  Nmin=16 b=2.43803 F=4 T=2^19 L=8\u001b[K\u001b[0m\n",
            "11:17:54 \u001b[0;36mINFO     \u001b[0mDensity model: 3--[HashGrid]-->32--[CutlassMLP(neurons=64,layers=3)]-->1\u001b[K\u001b[0m\n",
            "11:17:54 \u001b[0;36mINFO     \u001b[0mColor model:   3--[Composite]-->16+16--[CutlassMLP(neurons=64,layers=4)]-->3\u001b[K\u001b[0m\n",
            "11:17:54 \u001b[0;36mINFO     \u001b[0m  total_encoding_params=12855296 total_network_params=10240\u001b[K\u001b[0m\n",
            "Training:   0% 0/1 [00:00<?, ?steps/s]\n",
            "11:17:55 \u001b[0;32mSUCCESS  \u001b[0mSaved snapshot '/content/instant-ngp/data/nerf/fox/1.msgpack'\u001b[K\u001b[0m\n",
            "\u001b[0m"
          ]
        }
      ],
      "source": [
        "train_steps = 1  #@param {type:\"integer\"}\n",
        "snapshot_path = os.path.join(scene_path, f\"{train_steps}.msgpack\")\n",
        "!python ./scripts/run.py --scene {scene_path} --mode nerf --n_steps {train_steps} --save_snapshot {snapshot_path}"
      ]
    },
    {
      "cell_type": "markdown",
      "metadata": {
        "id": "RWuAHgOw8M4s"
      },
      "source": [
        "## 9. [LOCAL MACHINE] Generate a camera path\n",
        "\n",
        "Congrats! You now have a trained nerf checkpoint. Now, in order to generate a video with it, you will need to open it in your local machine with `testbed` and generate a `base_cam.jon` file following these [instructions](https://github.com/NVlabs/instant-ngp#testbed-controls). Remember to launch with the `--no-train` argument so that it doesn't start to train on your PC. Setting up the cameras can make your GUI pretty laggy, you can try to play with the `--height` and `--width` parameters or cropping your scene with the `Crop aabb` options to optimize the performance.\n",
        "\n",
        "Example command:\n",
        "```\n",
        "./build/instant-ngp --scene data/nerf/fox --no-train --snapshot /data/nerf/fox/2000.msgpack\n",
        "```\n",
        "\n",
        "After you're done, **upload `base_cam.json` to the root folder of your scene.**"
      ]
    },
    {
      "cell_type": "markdown",
      "metadata": {
        "id": "L5XVO_oi-riY"
      },
      "source": [
        "## 10. Render video"
      ]
    },
    {
      "cell_type": "markdown",
      "metadata": {
        "id": "x_2t4NHHAvn5"
      },
      "source": [
        "Make sure `base_cam.json` exists:"
      ]
    },
    {
      "cell_type": "code",
      "execution_count": null,
      "metadata": {
        "id": "04Yt6prm_FJI"
      },
      "outputs": [],
      "source": [
        "video_camera_path = os.path.join(scene_path, \"base_cam.json\")\n",
        "if not os.path.isfile(video_camera_path):\n",
        "  raise FileNotFoundError(video_camera_path)"
      ]
    },
    {
      "cell_type": "markdown",
      "metadata": {
        "id": "xdFuUotyA0HV"
      },
      "source": [
        "Render the video"
      ]
    },
    {
      "cell_type": "code",
      "execution_count": null,
      "metadata": {
        "id": "d3XJeTeF1yJE"
      },
      "outputs": [],
      "source": [
        "video_n_seconds = 5 #@param {type:\"integer\"}\n",
        "video_fps = 25 #@param {type:\"integer\"}\n",
        "width = 720 #@param {type:\"integer\"}\n",
        "height = 720 #@param {type:\"integer\"}\n",
        "output_video_path = os.path.join(scene_path, \"output_video.mp4\")\n",
        "\n",
        "!python scripts/run.py --mode nerf --scene {scene_path} --load_snapshot {snapshot_path} --video_camera_path {video_camera_path} --video_n_seconds 2 --video_fps 25 --width 720 --height 720 --video_output {output_video_path}\n",
        "print(f\"Generated video saved to:\\n{output_video_path}\")"
      ]
    }
  ],
  "metadata": {
    "accelerator": "GPU",
    "colab": {
      "name": "instant_ngp.ipynb",
      "provenance": [],
      "include_colab_link": true
    },
    "kernelspec": {
      "display_name": "Python 3",
      "language": "python",
      "name": "python3"
    },
    "language_info": {
      "name": "python",
      "version": "3.10.5 (tags/v3.10.5:f377153, Jun  6 2022, 16:14:13) [MSC v.1929 64 bit (AMD64)]"
    },
    "vscode": {
      "interpreter": {
        "hash": "80f0ca567e8a8332be8d0227e77114b80c729e82298f4777b19db59a6217bb0d"
      }
    }
  },
  "nbformat": 4,
  "nbformat_minor": 0
}